{
 "cells": [
  {
   "attachments": {},
   "cell_type": "markdown",
   "metadata": {},
   "source": [
    "# Counting Sheep, Courting Sleep:"
   ]
  },
  {
   "attachments": {},
   "cell_type": "markdown",
   "metadata": {},
   "source": [
    "## Using Python Data Analysis Tools to Find the Perfect Recipe for a Good Night's Sleep"
   ]
  },
  {
   "attachments": {},
   "cell_type": "markdown",
   "metadata": {},
   "source": [
    "First, we will import the pandas library to help us manipulate our data."
   ]
  },
  {
   "cell_type": "code",
   "execution_count": 2,
   "metadata": {},
   "outputs": [],
   "source": [
    "import pandas as pd"
   ]
  },
  {
   "attachments": {},
   "cell_type": "markdown",
   "metadata": {},
   "source": [
    "Then we will use pandas to read in our sleep tracking CSV file and, to make sure the data came in correctly, we will check the first five rows."
   ]
  },
  {
   "cell_type": "code",
   "execution_count": 3,
   "metadata": {},
   "outputs": [
    {
     "data": {
      "text/html": [
       "<div>\n",
       "<style scoped>\n",
       "    .dataframe tbody tr th:only-of-type {\n",
       "        vertical-align: middle;\n",
       "    }\n",
       "\n",
       "    .dataframe tbody tr th {\n",
       "        vertical-align: top;\n",
       "    }\n",
       "\n",
       "    .dataframe thead th {\n",
       "        text-align: right;\n",
       "    }\n",
       "</style>\n",
       "<table border=\"1\" class=\"dataframe\">\n",
       "  <thead>\n",
       "    <tr style=\"text-align: right;\">\n",
       "      <th></th>\n",
       "      <th>Timestamp</th>\n",
       "      <th>sleep_date</th>\n",
       "      <th>day_of_the_week</th>\n",
       "      <th>hours_sleep</th>\n",
       "      <th>awake_pct</th>\n",
       "      <th>rem_pct</th>\n",
       "      <th>core_pct</th>\n",
       "      <th>deep_pct</th>\n",
       "      <th>hr_bpm_min</th>\n",
       "      <th>hr_bpm_max</th>\n",
       "      <th>resp_rate_min</th>\n",
       "      <th>resp_rate_max</th>\n",
       "      <th>melatonin</th>\n",
       "      <th>magnesium</th>\n",
       "      <th>neuriva</th>\n",
       "      <th>chamomile</th>\n",
       "      <th>bath</th>\n",
       "      <th>shower</th>\n",
       "      <th>meditation</th>\n",
       "    </tr>\n",
       "  </thead>\n",
       "  <tbody>\n",
       "    <tr>\n",
       "      <th>0</th>\n",
       "      <td>2/8/2023 9:10:02</td>\n",
       "      <td>2/7/2023</td>\n",
       "      <td>Tuesday</td>\n",
       "      <td>7.30</td>\n",
       "      <td>3.0</td>\n",
       "      <td>12.0</td>\n",
       "      <td>80.0</td>\n",
       "      <td>5.0</td>\n",
       "      <td>61.0</td>\n",
       "      <td>69.0</td>\n",
       "      <td>8.0</td>\n",
       "      <td>12.5</td>\n",
       "      <td>No</td>\n",
       "      <td>Yes</td>\n",
       "      <td>No</td>\n",
       "      <td>No</td>\n",
       "      <td>Yes</td>\n",
       "      <td>No</td>\n",
       "      <td>Yes</td>\n",
       "    </tr>\n",
       "    <tr>\n",
       "      <th>1</th>\n",
       "      <td>2/9/2023 7:56:47</td>\n",
       "      <td>2/8/2023</td>\n",
       "      <td>Wednesday</td>\n",
       "      <td>6.83</td>\n",
       "      <td>5.0</td>\n",
       "      <td>22.0</td>\n",
       "      <td>67.0</td>\n",
       "      <td>6.0</td>\n",
       "      <td>62.0</td>\n",
       "      <td>78.0</td>\n",
       "      <td>8.0</td>\n",
       "      <td>12.5</td>\n",
       "      <td>Yes</td>\n",
       "      <td>Yes</td>\n",
       "      <td>No</td>\n",
       "      <td>No</td>\n",
       "      <td>No</td>\n",
       "      <td>No</td>\n",
       "      <td>Yes</td>\n",
       "    </tr>\n",
       "    <tr>\n",
       "      <th>2</th>\n",
       "      <td>2/10/2023 12:10:24</td>\n",
       "      <td>2/9/2023</td>\n",
       "      <td>Thursday</td>\n",
       "      <td>6.68</td>\n",
       "      <td>4.0</td>\n",
       "      <td>11.0</td>\n",
       "      <td>79.0</td>\n",
       "      <td>6.0</td>\n",
       "      <td>61.0</td>\n",
       "      <td>73.0</td>\n",
       "      <td>8.5</td>\n",
       "      <td>12.5</td>\n",
       "      <td>Yes</td>\n",
       "      <td>Yes</td>\n",
       "      <td>No</td>\n",
       "      <td>No</td>\n",
       "      <td>Yes</td>\n",
       "      <td>No</td>\n",
       "      <td>No</td>\n",
       "    </tr>\n",
       "    <tr>\n",
       "      <th>3</th>\n",
       "      <td>2/12/2023 17:32:05</td>\n",
       "      <td>2/10/2023</td>\n",
       "      <td>Friday</td>\n",
       "      <td>7.50</td>\n",
       "      <td>4.0</td>\n",
       "      <td>14.0</td>\n",
       "      <td>78.0</td>\n",
       "      <td>4.0</td>\n",
       "      <td>59.0</td>\n",
       "      <td>70.0</td>\n",
       "      <td>9.0</td>\n",
       "      <td>14.0</td>\n",
       "      <td>No</td>\n",
       "      <td>Yes</td>\n",
       "      <td>No</td>\n",
       "      <td>No</td>\n",
       "      <td>No</td>\n",
       "      <td>No</td>\n",
       "      <td>Yes</td>\n",
       "    </tr>\n",
       "    <tr>\n",
       "      <th>4</th>\n",
       "      <td>2/12/2023 17:34:12</td>\n",
       "      <td>2/11/2023</td>\n",
       "      <td>Saturday</td>\n",
       "      <td>6.55</td>\n",
       "      <td>3.0</td>\n",
       "      <td>21.0</td>\n",
       "      <td>71.0</td>\n",
       "      <td>5.0</td>\n",
       "      <td>58.0</td>\n",
       "      <td>76.0</td>\n",
       "      <td>8.0</td>\n",
       "      <td>15.0</td>\n",
       "      <td>No</td>\n",
       "      <td>No</td>\n",
       "      <td>No</td>\n",
       "      <td>No</td>\n",
       "      <td>No</td>\n",
       "      <td>No</td>\n",
       "      <td>No</td>\n",
       "    </tr>\n",
       "  </tbody>\n",
       "</table>\n",
       "</div>"
      ],
      "text/plain": [
       "            Timestamp sleep_date day_of_the_week  hours_sleep  awake_pct  \\\n",
       "0    2/8/2023 9:10:02   2/7/2023         Tuesday         7.30        3.0   \n",
       "1    2/9/2023 7:56:47   2/8/2023       Wednesday         6.83        5.0   \n",
       "2  2/10/2023 12:10:24   2/9/2023        Thursday         6.68        4.0   \n",
       "3  2/12/2023 17:32:05  2/10/2023          Friday         7.50        4.0   \n",
       "4  2/12/2023 17:34:12  2/11/2023        Saturday         6.55        3.0   \n",
       "\n",
       "   rem_pct  core_pct  deep_pct  hr_bpm_min  hr_bpm_max  resp_rate_min  \\\n",
       "0     12.0      80.0       5.0        61.0        69.0            8.0   \n",
       "1     22.0      67.0       6.0        62.0        78.0            8.0   \n",
       "2     11.0      79.0       6.0        61.0        73.0            8.5   \n",
       "3     14.0      78.0       4.0        59.0        70.0            9.0   \n",
       "4     21.0      71.0       5.0        58.0        76.0            8.0   \n",
       "\n",
       "   resp_rate_max melatonin magnesium neuriva chamomile bath shower meditation  \n",
       "0           12.5        No       Yes      No        No  Yes     No        Yes  \n",
       "1           12.5       Yes       Yes      No        No   No     No        Yes  \n",
       "2           12.5       Yes       Yes      No        No  Yes     No         No  \n",
       "3           14.0        No       Yes      No        No   No     No        Yes  \n",
       "4           15.0        No        No      No        No   No     No         No  "
      ]
     },
     "execution_count": 3,
     "metadata": {},
     "output_type": "execute_result"
    }
   ],
   "source": [
    "sleep_df = pd.read_csv('sleep_data_tracking_2023.csv')\n",
    "sleep_df.head()"
   ]
  },
  {
   "attachments": {},
   "cell_type": "markdown",
   "metadata": {},
   "source": [
    "Looks good! Now let's get a feel for our DataFrame and the data types it contains."
   ]
  },
  {
   "cell_type": "code",
   "execution_count": 4,
   "metadata": {},
   "outputs": [
    {
     "name": "stdout",
     "output_type": "stream",
     "text": [
      "<class 'pandas.core.frame.DataFrame'>\n",
      "RangeIndex: 31 entries, 0 to 30\n",
      "Data columns (total 19 columns):\n",
      " #   Column           Non-Null Count  Dtype  \n",
      "---  ------           --------------  -----  \n",
      " 0   Timestamp        31 non-null     object \n",
      " 1   sleep_date       31 non-null     object \n",
      " 2   day_of_the_week  31 non-null     object \n",
      " 3   hours_sleep      31 non-null     float64\n",
      " 4   awake_pct        30 non-null     float64\n",
      " 5   rem_pct          30 non-null     float64\n",
      " 6   core_pct         30 non-null     float64\n",
      " 7   deep_pct         30 non-null     float64\n",
      " 8   hr_bpm_min       30 non-null     float64\n",
      " 9   hr_bpm_max       30 non-null     float64\n",
      " 10  resp_rate_min    30 non-null     float64\n",
      " 11  resp_rate_max    30 non-null     float64\n",
      " 12  melatonin        31 non-null     object \n",
      " 13  magnesium        31 non-null     object \n",
      " 14  neuriva          31 non-null     object \n",
      " 15  chamomile        31 non-null     object \n",
      " 16  bath             31 non-null     object \n",
      " 17  shower           31 non-null     object \n",
      " 18  meditation       31 non-null     object \n",
      "dtypes: float64(9), object(10)\n",
      "memory usage: 4.7+ KB\n"
     ]
    }
   ],
   "source": [
    "sleep_df.info()"
   ]
  },
  {
   "attachments": {},
   "cell_type": "markdown",
   "metadata": {},
   "source": [
    "We will be dealing with floats and objects in this DataFrame. Now let's get a count of the number of rows and columns."
   ]
  },
  {
   "cell_type": "code",
   "execution_count": 5,
   "metadata": {},
   "outputs": [
    {
     "data": {
      "text/plain": [
       "(31, 19)"
      ]
     },
     "execution_count": 5,
     "metadata": {},
     "output_type": "execute_result"
    }
   ],
   "source": [
    "sleep_df.shape"
   ]
  },
  {
   "attachments": {},
   "cell_type": "markdown",
   "metadata": {},
   "source": [
    "Our data set has 31 rows and 19 columns. Quickly comparing the number of rows to the number of non-null values given in the output of cell 3 above, our data is pretty clean in terms of null values. We will have a little cleanup to do with those later.\n",
    "\n",
    "The \"Timestamp\" column came in from our Google Sheet because that can't be deleted in Sheets; it can only be hidden. That information is not needed for our analysis; that's simply the time each data submission went into the Google Form. Therefore, that column can be deleted."
   ]
  },
  {
   "cell_type": "code",
   "execution_count": 6,
   "metadata": {},
   "outputs": [],
   "source": [
    "del sleep_df['Timestamp']"
   ]
  },
  {
   "attachments": {},
   "cell_type": "markdown",
   "metadata": {},
   "source": [
    "Let's check our first five rows to make sure that worked."
   ]
  },
  {
   "cell_type": "code",
   "execution_count": 7,
   "metadata": {},
   "outputs": [
    {
     "data": {
      "text/html": [
       "<div>\n",
       "<style scoped>\n",
       "    .dataframe tbody tr th:only-of-type {\n",
       "        vertical-align: middle;\n",
       "    }\n",
       "\n",
       "    .dataframe tbody tr th {\n",
       "        vertical-align: top;\n",
       "    }\n",
       "\n",
       "    .dataframe thead th {\n",
       "        text-align: right;\n",
       "    }\n",
       "</style>\n",
       "<table border=\"1\" class=\"dataframe\">\n",
       "  <thead>\n",
       "    <tr style=\"text-align: right;\">\n",
       "      <th></th>\n",
       "      <th>sleep_date</th>\n",
       "      <th>day_of_the_week</th>\n",
       "      <th>hours_sleep</th>\n",
       "      <th>awake_pct</th>\n",
       "      <th>rem_pct</th>\n",
       "      <th>core_pct</th>\n",
       "      <th>deep_pct</th>\n",
       "      <th>hr_bpm_min</th>\n",
       "      <th>hr_bpm_max</th>\n",
       "      <th>resp_rate_min</th>\n",
       "      <th>resp_rate_max</th>\n",
       "      <th>melatonin</th>\n",
       "      <th>magnesium</th>\n",
       "      <th>neuriva</th>\n",
       "      <th>chamomile</th>\n",
       "      <th>bath</th>\n",
       "      <th>shower</th>\n",
       "      <th>meditation</th>\n",
       "    </tr>\n",
       "  </thead>\n",
       "  <tbody>\n",
       "    <tr>\n",
       "      <th>0</th>\n",
       "      <td>2/7/2023</td>\n",
       "      <td>Tuesday</td>\n",
       "      <td>7.30</td>\n",
       "      <td>3.0</td>\n",
       "      <td>12.0</td>\n",
       "      <td>80.0</td>\n",
       "      <td>5.0</td>\n",
       "      <td>61.0</td>\n",
       "      <td>69.0</td>\n",
       "      <td>8.0</td>\n",
       "      <td>12.5</td>\n",
       "      <td>No</td>\n",
       "      <td>Yes</td>\n",
       "      <td>No</td>\n",
       "      <td>No</td>\n",
       "      <td>Yes</td>\n",
       "      <td>No</td>\n",
       "      <td>Yes</td>\n",
       "    </tr>\n",
       "    <tr>\n",
       "      <th>1</th>\n",
       "      <td>2/8/2023</td>\n",
       "      <td>Wednesday</td>\n",
       "      <td>6.83</td>\n",
       "      <td>5.0</td>\n",
       "      <td>22.0</td>\n",
       "      <td>67.0</td>\n",
       "      <td>6.0</td>\n",
       "      <td>62.0</td>\n",
       "      <td>78.0</td>\n",
       "      <td>8.0</td>\n",
       "      <td>12.5</td>\n",
       "      <td>Yes</td>\n",
       "      <td>Yes</td>\n",
       "      <td>No</td>\n",
       "      <td>No</td>\n",
       "      <td>No</td>\n",
       "      <td>No</td>\n",
       "      <td>Yes</td>\n",
       "    </tr>\n",
       "    <tr>\n",
       "      <th>2</th>\n",
       "      <td>2/9/2023</td>\n",
       "      <td>Thursday</td>\n",
       "      <td>6.68</td>\n",
       "      <td>4.0</td>\n",
       "      <td>11.0</td>\n",
       "      <td>79.0</td>\n",
       "      <td>6.0</td>\n",
       "      <td>61.0</td>\n",
       "      <td>73.0</td>\n",
       "      <td>8.5</td>\n",
       "      <td>12.5</td>\n",
       "      <td>Yes</td>\n",
       "      <td>Yes</td>\n",
       "      <td>No</td>\n",
       "      <td>No</td>\n",
       "      <td>Yes</td>\n",
       "      <td>No</td>\n",
       "      <td>No</td>\n",
       "    </tr>\n",
       "    <tr>\n",
       "      <th>3</th>\n",
       "      <td>2/10/2023</td>\n",
       "      <td>Friday</td>\n",
       "      <td>7.50</td>\n",
       "      <td>4.0</td>\n",
       "      <td>14.0</td>\n",
       "      <td>78.0</td>\n",
       "      <td>4.0</td>\n",
       "      <td>59.0</td>\n",
       "      <td>70.0</td>\n",
       "      <td>9.0</td>\n",
       "      <td>14.0</td>\n",
       "      <td>No</td>\n",
       "      <td>Yes</td>\n",
       "      <td>No</td>\n",
       "      <td>No</td>\n",
       "      <td>No</td>\n",
       "      <td>No</td>\n",
       "      <td>Yes</td>\n",
       "    </tr>\n",
       "    <tr>\n",
       "      <th>4</th>\n",
       "      <td>2/11/2023</td>\n",
       "      <td>Saturday</td>\n",
       "      <td>6.55</td>\n",
       "      <td>3.0</td>\n",
       "      <td>21.0</td>\n",
       "      <td>71.0</td>\n",
       "      <td>5.0</td>\n",
       "      <td>58.0</td>\n",
       "      <td>76.0</td>\n",
       "      <td>8.0</td>\n",
       "      <td>15.0</td>\n",
       "      <td>No</td>\n",
       "      <td>No</td>\n",
       "      <td>No</td>\n",
       "      <td>No</td>\n",
       "      <td>No</td>\n",
       "      <td>No</td>\n",
       "      <td>No</td>\n",
       "    </tr>\n",
       "  </tbody>\n",
       "</table>\n",
       "</div>"
      ],
      "text/plain": [
       "  sleep_date day_of_the_week  hours_sleep  awake_pct  rem_pct  core_pct  \\\n",
       "0   2/7/2023         Tuesday         7.30        3.0     12.0      80.0   \n",
       "1   2/8/2023       Wednesday         6.83        5.0     22.0      67.0   \n",
       "2   2/9/2023        Thursday         6.68        4.0     11.0      79.0   \n",
       "3  2/10/2023          Friday         7.50        4.0     14.0      78.0   \n",
       "4  2/11/2023        Saturday         6.55        3.0     21.0      71.0   \n",
       "\n",
       "   deep_pct  hr_bpm_min  hr_bpm_max  resp_rate_min  resp_rate_max melatonin  \\\n",
       "0       5.0        61.0        69.0            8.0           12.5        No   \n",
       "1       6.0        62.0        78.0            8.0           12.5       Yes   \n",
       "2       6.0        61.0        73.0            8.5           12.5       Yes   \n",
       "3       4.0        59.0        70.0            9.0           14.0        No   \n",
       "4       5.0        58.0        76.0            8.0           15.0        No   \n",
       "\n",
       "  magnesium neuriva chamomile bath shower meditation  \n",
       "0       Yes      No        No  Yes     No        Yes  \n",
       "1       Yes      No        No   No     No        Yes  \n",
       "2       Yes      No        No  Yes     No         No  \n",
       "3       Yes      No        No   No     No        Yes  \n",
       "4        No      No        No   No     No         No  "
      ]
     },
     "execution_count": 7,
     "metadata": {},
     "output_type": "execute_result"
    }
   ],
   "source": [
    "sleep_df.head()"
   ]
  },
  {
   "attachments": {},
   "cell_type": "markdown",
   "metadata": {},
   "source": [
    "And now let's get a new count of the number of rows and columns."
   ]
  },
  {
   "cell_type": "code",
   "execution_count": 8,
   "metadata": {},
   "outputs": [
    {
     "data": {
      "text/plain": [
       "(31, 18)"
      ]
     },
     "execution_count": 8,
     "metadata": {},
     "output_type": "execute_result"
    }
   ],
   "source": [
    "sleep_df.shape"
   ]
  },
  {
   "cell_type": "code",
   "execution_count": 10,
   "metadata": {},
   "outputs": [
    {
     "name": "stdout",
     "output_type": "stream",
     "text": [
      "   sleep_date day_of_the_week  hours_sleep  awake_pct  rem_pct  core_pct  \\\n",
      "16  2/23/2023        Thursday         6.48        2.0     17.0      74.0   \n",
      "17  2/23/2023        Thursday         6.53        4.0     20.0      74.0   \n",
      "\n",
      "    deep_pct  hr_bpm_min  hr_bpm_max  resp_rate_min  resp_rate_max melatonin  \\\n",
      "16       7.0        59.0        73.0            8.5           13.0        No   \n",
      "17       2.0        62.0        77.0            9.0           14.5        No   \n",
      "\n",
      "   magnesium neuriva chamomile bath shower meditation  \n",
      "16       Yes     Yes        No  Yes     No        Yes  \n",
      "17       Yes     Yes        No  Yes     No        Yes  \n"
     ]
    }
   ],
   "source": [
    "dups = sleep_df[sleep_df.duplicated('sleep_date', keep=False)]\n",
    "print(dups)"
   ]
  },
  {
   "cell_type": "code",
   "execution_count": null,
   "metadata": {},
   "outputs": [],
   "source": []
  }
 ],
 "metadata": {
  "kernelspec": {
   "display_name": "base",
   "language": "python",
   "name": "python3"
  },
  "language_info": {
   "codemirror_mode": {
    "name": "ipython",
    "version": 3
   },
   "file_extension": ".py",
   "mimetype": "text/x-python",
   "name": "python",
   "nbconvert_exporter": "python",
   "pygments_lexer": "ipython3",
   "version": "3.11.1"
  },
  "orig_nbformat": 4
 },
 "nbformat": 4,
 "nbformat_minor": 2
}
