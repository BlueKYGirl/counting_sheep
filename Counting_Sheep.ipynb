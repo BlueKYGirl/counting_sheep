{
 "cells": [
  {
   "attachments": {},
   "cell_type": "markdown",
   "metadata": {},
   "source": [
    "# Counting Sheep, Courting Sleep:"
   ]
  },
  {
   "attachments": {},
   "cell_type": "markdown",
   "metadata": {},
   "source": [
    "## Using Python Data Analysis Tools to Find the Perfect Recipe for a Good Night's Sleep"
   ]
  },
  {
   "attachments": {},
   "cell_type": "markdown",
   "metadata": {},
   "source": [
    "### Step One: Reading and Cleaning"
   ]
  },
  {
   "attachments": {},
   "cell_type": "markdown",
   "metadata": {},
   "source": [
    "Because I am the creator and owner of the data for this project, and I compiled it by converting a Google Sheet to a CSV file, I was able to clean up the column names while still in the Sheet. This seemed an easier solution than converting via pandas after reading in the data. Google Forms outputs to its associated Google Sheet with the column names being the full question asked in that cell on the Form. I changed these to simple titles in all lower case with words separated by underscores to make them more Pythonic. For reference, below are screen shots of the Sheet before and after the name cleanup."
   ]
  },
  {
   "attachments": {},
   "cell_type": "markdown",
   "metadata": {},
   "source": [
    "![Sleep Sheet Before Column Cleanup](images/sleep_sheet_before_cleanup.png)"
   ]
  },
  {
   "attachments": {},
   "cell_type": "markdown",
   "metadata": {},
   "source": [
    "![Sleep Sheet After Column Cleanup](images/sleep_sheet_after_cleanup.png)"
   ]
  },
  {
   "attachments": {},
   "cell_type": "markdown",
   "metadata": {},
   "source": [
    "First, we will import the pandas and Numpy modules to help us manipulate our data."
   ]
  },
  {
   "cell_type": "code",
   "execution_count": 1,
   "metadata": {},
   "outputs": [],
   "source": [
    "import pandas as pd\n",
    "import numpy as np"
   ]
  },
  {
   "attachments": {},
   "cell_type": "markdown",
   "metadata": {},
   "source": [
    "Then we will use pandas to read in our sleep tracking CSV file and, to make sure the data came in correctly, we will check the first five rows."
   ]
  },
  {
   "cell_type": "code",
   "execution_count": 2,
   "metadata": {},
   "outputs": [
    {
     "data": {
      "text/html": [
       "<div>\n",
       "<style scoped>\n",
       "    .dataframe tbody tr th:only-of-type {\n",
       "        vertical-align: middle;\n",
       "    }\n",
       "\n",
       "    .dataframe tbody tr th {\n",
       "        vertical-align: top;\n",
       "    }\n",
       "\n",
       "    .dataframe thead th {\n",
       "        text-align: right;\n",
       "    }\n",
       "</style>\n",
       "<table border=\"1\" class=\"dataframe\">\n",
       "  <thead>\n",
       "    <tr style=\"text-align: right;\">\n",
       "      <th></th>\n",
       "      <th>Timestamp</th>\n",
       "      <th>sleep_date</th>\n",
       "      <th>day_of_the_week</th>\n",
       "      <th>hours_sleep</th>\n",
       "      <th>awake_pct</th>\n",
       "      <th>rem_pct</th>\n",
       "      <th>core_pct</th>\n",
       "      <th>deep_pct</th>\n",
       "      <th>hr_bpm_min</th>\n",
       "      <th>hr_bpm_max</th>\n",
       "      <th>resp_rate_min</th>\n",
       "      <th>resp_rate_max</th>\n",
       "      <th>melatonin</th>\n",
       "      <th>magnesium</th>\n",
       "      <th>neuriva</th>\n",
       "      <th>chamomile</th>\n",
       "      <th>bath</th>\n",
       "      <th>shower</th>\n",
       "      <th>meditation</th>\n",
       "    </tr>\n",
       "  </thead>\n",
       "  <tbody>\n",
       "    <tr>\n",
       "      <th>0</th>\n",
       "      <td>2/8/2023 9:10:02</td>\n",
       "      <td>2/7/2023</td>\n",
       "      <td>Tuesday</td>\n",
       "      <td>7.30</td>\n",
       "      <td>3.0</td>\n",
       "      <td>12.0</td>\n",
       "      <td>80.0</td>\n",
       "      <td>5.0</td>\n",
       "      <td>61.0</td>\n",
       "      <td>69.0</td>\n",
       "      <td>8.0</td>\n",
       "      <td>12.5</td>\n",
       "      <td>No</td>\n",
       "      <td>Yes</td>\n",
       "      <td>No</td>\n",
       "      <td>No</td>\n",
       "      <td>Yes</td>\n",
       "      <td>No</td>\n",
       "      <td>Yes</td>\n",
       "    </tr>\n",
       "    <tr>\n",
       "      <th>1</th>\n",
       "      <td>2/9/2023 7:56:47</td>\n",
       "      <td>2/8/2023</td>\n",
       "      <td>Wednesday</td>\n",
       "      <td>6.83</td>\n",
       "      <td>5.0</td>\n",
       "      <td>22.0</td>\n",
       "      <td>67.0</td>\n",
       "      <td>6.0</td>\n",
       "      <td>62.0</td>\n",
       "      <td>78.0</td>\n",
       "      <td>8.0</td>\n",
       "      <td>12.5</td>\n",
       "      <td>Yes</td>\n",
       "      <td>Yes</td>\n",
       "      <td>No</td>\n",
       "      <td>No</td>\n",
       "      <td>No</td>\n",
       "      <td>No</td>\n",
       "      <td>Yes</td>\n",
       "    </tr>\n",
       "    <tr>\n",
       "      <th>2</th>\n",
       "      <td>2/10/2023 12:10:24</td>\n",
       "      <td>2/9/2023</td>\n",
       "      <td>Thursday</td>\n",
       "      <td>6.68</td>\n",
       "      <td>4.0</td>\n",
       "      <td>11.0</td>\n",
       "      <td>79.0</td>\n",
       "      <td>6.0</td>\n",
       "      <td>61.0</td>\n",
       "      <td>73.0</td>\n",
       "      <td>8.5</td>\n",
       "      <td>12.5</td>\n",
       "      <td>Yes</td>\n",
       "      <td>Yes</td>\n",
       "      <td>No</td>\n",
       "      <td>No</td>\n",
       "      <td>Yes</td>\n",
       "      <td>No</td>\n",
       "      <td>No</td>\n",
       "    </tr>\n",
       "    <tr>\n",
       "      <th>3</th>\n",
       "      <td>2/12/2023 17:32:05</td>\n",
       "      <td>2/10/2023</td>\n",
       "      <td>Friday</td>\n",
       "      <td>7.50</td>\n",
       "      <td>4.0</td>\n",
       "      <td>14.0</td>\n",
       "      <td>78.0</td>\n",
       "      <td>4.0</td>\n",
       "      <td>59.0</td>\n",
       "      <td>70.0</td>\n",
       "      <td>9.0</td>\n",
       "      <td>14.0</td>\n",
       "      <td>No</td>\n",
       "      <td>Yes</td>\n",
       "      <td>No</td>\n",
       "      <td>No</td>\n",
       "      <td>No</td>\n",
       "      <td>No</td>\n",
       "      <td>Yes</td>\n",
       "    </tr>\n",
       "    <tr>\n",
       "      <th>4</th>\n",
       "      <td>2/12/2023 17:34:12</td>\n",
       "      <td>2/11/2023</td>\n",
       "      <td>Saturday</td>\n",
       "      <td>6.55</td>\n",
       "      <td>3.0</td>\n",
       "      <td>21.0</td>\n",
       "      <td>71.0</td>\n",
       "      <td>5.0</td>\n",
       "      <td>58.0</td>\n",
       "      <td>76.0</td>\n",
       "      <td>8.0</td>\n",
       "      <td>15.0</td>\n",
       "      <td>No</td>\n",
       "      <td>No</td>\n",
       "      <td>No</td>\n",
       "      <td>No</td>\n",
       "      <td>No</td>\n",
       "      <td>No</td>\n",
       "      <td>No</td>\n",
       "    </tr>\n",
       "  </tbody>\n",
       "</table>\n",
       "</div>"
      ],
      "text/plain": [
       "            Timestamp sleep_date day_of_the_week  hours_sleep  awake_pct  \\\n",
       "0    2/8/2023 9:10:02   2/7/2023         Tuesday         7.30        3.0   \n",
       "1    2/9/2023 7:56:47   2/8/2023       Wednesday         6.83        5.0   \n",
       "2  2/10/2023 12:10:24   2/9/2023        Thursday         6.68        4.0   \n",
       "3  2/12/2023 17:32:05  2/10/2023          Friday         7.50        4.0   \n",
       "4  2/12/2023 17:34:12  2/11/2023        Saturday         6.55        3.0   \n",
       "\n",
       "   rem_pct  core_pct  deep_pct  hr_bpm_min  hr_bpm_max  resp_rate_min  \\\n",
       "0     12.0      80.0       5.0        61.0        69.0            8.0   \n",
       "1     22.0      67.0       6.0        62.0        78.0            8.0   \n",
       "2     11.0      79.0       6.0        61.0        73.0            8.5   \n",
       "3     14.0      78.0       4.0        59.0        70.0            9.0   \n",
       "4     21.0      71.0       5.0        58.0        76.0            8.0   \n",
       "\n",
       "   resp_rate_max melatonin magnesium neuriva chamomile bath shower meditation  \n",
       "0           12.5        No       Yes      No        No  Yes     No        Yes  \n",
       "1           12.5       Yes       Yes      No        No   No     No        Yes  \n",
       "2           12.5       Yes       Yes      No        No  Yes     No         No  \n",
       "3           14.0        No       Yes      No        No   No     No        Yes  \n",
       "4           15.0        No        No      No        No   No     No         No  "
      ]
     },
     "execution_count": 2,
     "metadata": {},
     "output_type": "execute_result"
    }
   ],
   "source": [
    "sleep_df = pd.read_csv('sleep_data_tracking_2023.csv')\n",
    "sleep_df.head()"
   ]
  },
  {
   "attachments": {},
   "cell_type": "markdown",
   "metadata": {},
   "source": [
    "Looks good! Now let's get a feel for our DataFrame and the data types it contains."
   ]
  },
  {
   "cell_type": "code",
   "execution_count": 3,
   "metadata": {},
   "outputs": [
    {
     "name": "stdout",
     "output_type": "stream",
     "text": [
      "<class 'pandas.core.frame.DataFrame'>\n",
      "RangeIndex: 31 entries, 0 to 30\n",
      "Data columns (total 19 columns):\n",
      " #   Column           Non-Null Count  Dtype  \n",
      "---  ------           --------------  -----  \n",
      " 0   Timestamp        31 non-null     object \n",
      " 1   sleep_date       31 non-null     object \n",
      " 2   day_of_the_week  31 non-null     object \n",
      " 3   hours_sleep      31 non-null     float64\n",
      " 4   awake_pct        30 non-null     float64\n",
      " 5   rem_pct          30 non-null     float64\n",
      " 6   core_pct         30 non-null     float64\n",
      " 7   deep_pct         30 non-null     float64\n",
      " 8   hr_bpm_min       30 non-null     float64\n",
      " 9   hr_bpm_max       30 non-null     float64\n",
      " 10  resp_rate_min    30 non-null     float64\n",
      " 11  resp_rate_max    30 non-null     float64\n",
      " 12  melatonin        31 non-null     object \n",
      " 13  magnesium        31 non-null     object \n",
      " 14  neuriva          31 non-null     object \n",
      " 15  chamomile        31 non-null     object \n",
      " 16  bath             31 non-null     object \n",
      " 17  shower           31 non-null     object \n",
      " 18  meditation       31 non-null     object \n",
      "dtypes: float64(9), object(10)\n",
      "memory usage: 4.7+ KB\n"
     ]
    }
   ],
   "source": [
    "sleep_df.info()"
   ]
  },
  {
   "attachments": {},
   "cell_type": "markdown",
   "metadata": {},
   "source": [
    "We will be dealing with floats and strings in this DataFrame. Now let's get a count of the number of rows and columns."
   ]
  },
  {
   "cell_type": "code",
   "execution_count": 4,
   "metadata": {},
   "outputs": [
    {
     "data": {
      "text/plain": [
       "(31, 19)"
      ]
     },
     "execution_count": 4,
     "metadata": {},
     "output_type": "execute_result"
    }
   ],
   "source": [
    "sleep_df.shape"
   ]
  },
  {
   "attachments": {},
   "cell_type": "markdown",
   "metadata": {},
   "source": [
    "Our data set has 31 rows and 19 columns. Quickly comparing the number of rows to the number of non-null values given in the output of cell 3 above, our data is pretty clean in terms of null values. We will have a little cleanup to do with those later.\n",
    "\n",
    "The \"Timestamp\" column came in from our Google Sheet because that can't be deleted in Sheets; it can only be hidden. That information is not needed for our analysis; that's simply the time each data submission went into the Google Form. Therefore, that column can be deleted."
   ]
  },
  {
   "cell_type": "code",
   "execution_count": 5,
   "metadata": {},
   "outputs": [],
   "source": [
    "del sleep_df['Timestamp']"
   ]
  },
  {
   "attachments": {},
   "cell_type": "markdown",
   "metadata": {},
   "source": [
    "Let's check our first five rows to make sure that worked."
   ]
  },
  {
   "cell_type": "code",
   "execution_count": 6,
   "metadata": {},
   "outputs": [
    {
     "data": {
      "text/html": [
       "<div>\n",
       "<style scoped>\n",
       "    .dataframe tbody tr th:only-of-type {\n",
       "        vertical-align: middle;\n",
       "    }\n",
       "\n",
       "    .dataframe tbody tr th {\n",
       "        vertical-align: top;\n",
       "    }\n",
       "\n",
       "    .dataframe thead th {\n",
       "        text-align: right;\n",
       "    }\n",
       "</style>\n",
       "<table border=\"1\" class=\"dataframe\">\n",
       "  <thead>\n",
       "    <tr style=\"text-align: right;\">\n",
       "      <th></th>\n",
       "      <th>sleep_date</th>\n",
       "      <th>day_of_the_week</th>\n",
       "      <th>hours_sleep</th>\n",
       "      <th>awake_pct</th>\n",
       "      <th>rem_pct</th>\n",
       "      <th>core_pct</th>\n",
       "      <th>deep_pct</th>\n",
       "      <th>hr_bpm_min</th>\n",
       "      <th>hr_bpm_max</th>\n",
       "      <th>resp_rate_min</th>\n",
       "      <th>resp_rate_max</th>\n",
       "      <th>melatonin</th>\n",
       "      <th>magnesium</th>\n",
       "      <th>neuriva</th>\n",
       "      <th>chamomile</th>\n",
       "      <th>bath</th>\n",
       "      <th>shower</th>\n",
       "      <th>meditation</th>\n",
       "    </tr>\n",
       "  </thead>\n",
       "  <tbody>\n",
       "    <tr>\n",
       "      <th>0</th>\n",
       "      <td>2/7/2023</td>\n",
       "      <td>Tuesday</td>\n",
       "      <td>7.30</td>\n",
       "      <td>3.0</td>\n",
       "      <td>12.0</td>\n",
       "      <td>80.0</td>\n",
       "      <td>5.0</td>\n",
       "      <td>61.0</td>\n",
       "      <td>69.0</td>\n",
       "      <td>8.0</td>\n",
       "      <td>12.5</td>\n",
       "      <td>No</td>\n",
       "      <td>Yes</td>\n",
       "      <td>No</td>\n",
       "      <td>No</td>\n",
       "      <td>Yes</td>\n",
       "      <td>No</td>\n",
       "      <td>Yes</td>\n",
       "    </tr>\n",
       "    <tr>\n",
       "      <th>1</th>\n",
       "      <td>2/8/2023</td>\n",
       "      <td>Wednesday</td>\n",
       "      <td>6.83</td>\n",
       "      <td>5.0</td>\n",
       "      <td>22.0</td>\n",
       "      <td>67.0</td>\n",
       "      <td>6.0</td>\n",
       "      <td>62.0</td>\n",
       "      <td>78.0</td>\n",
       "      <td>8.0</td>\n",
       "      <td>12.5</td>\n",
       "      <td>Yes</td>\n",
       "      <td>Yes</td>\n",
       "      <td>No</td>\n",
       "      <td>No</td>\n",
       "      <td>No</td>\n",
       "      <td>No</td>\n",
       "      <td>Yes</td>\n",
       "    </tr>\n",
       "    <tr>\n",
       "      <th>2</th>\n",
       "      <td>2/9/2023</td>\n",
       "      <td>Thursday</td>\n",
       "      <td>6.68</td>\n",
       "      <td>4.0</td>\n",
       "      <td>11.0</td>\n",
       "      <td>79.0</td>\n",
       "      <td>6.0</td>\n",
       "      <td>61.0</td>\n",
       "      <td>73.0</td>\n",
       "      <td>8.5</td>\n",
       "      <td>12.5</td>\n",
       "      <td>Yes</td>\n",
       "      <td>Yes</td>\n",
       "      <td>No</td>\n",
       "      <td>No</td>\n",
       "      <td>Yes</td>\n",
       "      <td>No</td>\n",
       "      <td>No</td>\n",
       "    </tr>\n",
       "    <tr>\n",
       "      <th>3</th>\n",
       "      <td>2/10/2023</td>\n",
       "      <td>Friday</td>\n",
       "      <td>7.50</td>\n",
       "      <td>4.0</td>\n",
       "      <td>14.0</td>\n",
       "      <td>78.0</td>\n",
       "      <td>4.0</td>\n",
       "      <td>59.0</td>\n",
       "      <td>70.0</td>\n",
       "      <td>9.0</td>\n",
       "      <td>14.0</td>\n",
       "      <td>No</td>\n",
       "      <td>Yes</td>\n",
       "      <td>No</td>\n",
       "      <td>No</td>\n",
       "      <td>No</td>\n",
       "      <td>No</td>\n",
       "      <td>Yes</td>\n",
       "    </tr>\n",
       "    <tr>\n",
       "      <th>4</th>\n",
       "      <td>2/11/2023</td>\n",
       "      <td>Saturday</td>\n",
       "      <td>6.55</td>\n",
       "      <td>3.0</td>\n",
       "      <td>21.0</td>\n",
       "      <td>71.0</td>\n",
       "      <td>5.0</td>\n",
       "      <td>58.0</td>\n",
       "      <td>76.0</td>\n",
       "      <td>8.0</td>\n",
       "      <td>15.0</td>\n",
       "      <td>No</td>\n",
       "      <td>No</td>\n",
       "      <td>No</td>\n",
       "      <td>No</td>\n",
       "      <td>No</td>\n",
       "      <td>No</td>\n",
       "      <td>No</td>\n",
       "    </tr>\n",
       "  </tbody>\n",
       "</table>\n",
       "</div>"
      ],
      "text/plain": [
       "  sleep_date day_of_the_week  hours_sleep  awake_pct  rem_pct  core_pct  \\\n",
       "0   2/7/2023         Tuesday         7.30        3.0     12.0      80.0   \n",
       "1   2/8/2023       Wednesday         6.83        5.0     22.0      67.0   \n",
       "2   2/9/2023        Thursday         6.68        4.0     11.0      79.0   \n",
       "3  2/10/2023          Friday         7.50        4.0     14.0      78.0   \n",
       "4  2/11/2023        Saturday         6.55        3.0     21.0      71.0   \n",
       "\n",
       "   deep_pct  hr_bpm_min  hr_bpm_max  resp_rate_min  resp_rate_max melatonin  \\\n",
       "0       5.0        61.0        69.0            8.0           12.5        No   \n",
       "1       6.0        62.0        78.0            8.0           12.5       Yes   \n",
       "2       6.0        61.0        73.0            8.5           12.5       Yes   \n",
       "3       4.0        59.0        70.0            9.0           14.0        No   \n",
       "4       5.0        58.0        76.0            8.0           15.0        No   \n",
       "\n",
       "  magnesium neuriva chamomile bath shower meditation  \n",
       "0       Yes      No        No  Yes     No        Yes  \n",
       "1       Yes      No        No   No     No        Yes  \n",
       "2       Yes      No        No  Yes     No         No  \n",
       "3       Yes      No        No   No     No        Yes  \n",
       "4        No      No        No   No     No         No  "
      ]
     },
     "execution_count": 6,
     "metadata": {},
     "output_type": "execute_result"
    }
   ],
   "source": [
    "sleep_df.head()"
   ]
  },
  {
   "attachments": {},
   "cell_type": "markdown",
   "metadata": {},
   "source": [
    "And now let's get a new count of the number of rows and columns."
   ]
  },
  {
   "cell_type": "code",
   "execution_count": 7,
   "metadata": {},
   "outputs": [
    {
     "data": {
      "text/plain": [
       "(31, 18)"
      ]
     },
     "execution_count": 7,
     "metadata": {},
     "output_type": "execute_result"
    }
   ],
   "source": [
    "sleep_df.shape"
   ]
  },
  {
   "attachments": {},
   "cell_type": "markdown",
   "metadata": {},
   "source": [
    "Because this data came from daily Google Form submissions, human errors in submitting were probably made. (Especially since the subject is sleep-deprived enough to want to study her own sleep.) It's easy to accidentally send duplicate responses, and when that happens, the respondent can't fix it on their own. Only the Form owner can. So let's see if we have any duplicate entries."
   ]
  },
  {
   "cell_type": "code",
   "execution_count": 8,
   "metadata": {},
   "outputs": [
    {
     "name": "stdout",
     "output_type": "stream",
     "text": [
      "   sleep_date day_of_the_week  hours_sleep  awake_pct  rem_pct  core_pct  \\\n",
      "16  2/23/2023        Thursday         6.48        2.0     17.0      74.0   \n",
      "17  2/23/2023        Thursday         6.53        4.0     20.0      74.0   \n",
      "\n",
      "    deep_pct  hr_bpm_min  hr_bpm_max  resp_rate_min  resp_rate_max melatonin  \\\n",
      "16       7.0        59.0        73.0            8.5           13.0        No   \n",
      "17       2.0        62.0        77.0            9.0           14.5        No   \n",
      "\n",
      "   magnesium neuriva chamomile bath shower meditation  \n",
      "16       Yes     Yes        No  Yes     No        Yes  \n",
      "17       Yes     Yes        No  Yes     No        Yes  \n"
     ]
    }
   ],
   "source": [
    "dups = sleep_df[sleep_df.duplicated('sleep_date', keep=False)]\n",
    "print(dups)"
   ]
  },
  {
   "attachments": {},
   "cell_type": "markdown",
   "metadata": {},
   "source": [
    "Hmm, it looks as though there's a duplicate entry for 2/23, but not all the data is a duplicate. Let's look at the rows before and after these values at index 16 and 17 to see if there is anything we should delete."
   ]
  },
  {
   "cell_type": "code",
   "execution_count": 9,
   "metadata": {},
   "outputs": [
    {
     "name": "stdout",
     "output_type": "stream",
     "text": [
      "   sleep_date day_of_the_week  hours_sleep  awake_pct  rem_pct  core_pct  \\\n",
      "15  2/22/2023       Wednesday         6.48        2.0     17.0      74.0   \n",
      "16  2/23/2023        Thursday         6.48        2.0     17.0      74.0   \n",
      "17  2/23/2023        Thursday         6.53        4.0     20.0      74.0   \n",
      "18  2/24/2023          Friday         7.40        4.0     10.0      79.0   \n",
      "\n",
      "    deep_pct  hr_bpm_min  hr_bpm_max  resp_rate_min  resp_rate_max melatonin  \\\n",
      "15       7.0        59.0        73.0            8.5           13.0        No   \n",
      "16       7.0        59.0        73.0            8.5           13.0        No   \n",
      "17       2.0        62.0        77.0            9.0           14.5        No   \n",
      "18       7.0        60.0        70.0            9.0           13.0        No   \n",
      "\n",
      "   magnesium neuriva chamomile bath shower meditation  \n",
      "15       Yes     Yes        No   No    Yes        Yes  \n",
      "16       Yes     Yes        No  Yes     No        Yes  \n",
      "17       Yes     Yes        No  Yes     No        Yes  \n",
      "18       Yes     Yes        No   No     No        Yes  \n"
     ]
    }
   ],
   "source": [
    "dup_rows = sleep_df.iloc[15:19]\n",
    "print(dup_rows)"
   ]
  },
  {
   "attachments": {},
   "cell_type": "markdown",
   "metadata": {},
   "source": [
    "It looks like the sleep respondent (that'd be me) accidentally submitted the same data in indices 15 and 16 but with different dates. We know that we can delete the row at index 16. "
   ]
  },
  {
   "cell_type": "code",
   "execution_count": 10,
   "metadata": {},
   "outputs": [],
   "source": [
    "sleep_df.drop([16], inplace=True)"
   ]
  },
  {
   "attachments": {},
   "cell_type": "markdown",
   "metadata": {},
   "source": [
    "Now, let's check the rows in that area to make sure we dropped what we wanted to drop."
   ]
  },
  {
   "cell_type": "code",
   "execution_count": 11,
   "metadata": {},
   "outputs": [
    {
     "name": "stdout",
     "output_type": "stream",
     "text": [
      "   sleep_date day_of_the_week  hours_sleep  awake_pct  rem_pct  core_pct  \\\n",
      "14  2/21/2023         Tuesday         6.87        2.0     16.0      73.0   \n",
      "15  2/22/2023       Wednesday         6.48        2.0     17.0      74.0   \n",
      "17  2/23/2023        Thursday         6.53        4.0     20.0      74.0   \n",
      "18  2/24/2023          Friday         7.40        4.0     10.0      79.0   \n",
      "19  2/25/2023        Saturday         6.77        4.0      9.0      83.0   \n",
      "\n",
      "    deep_pct  hr_bpm_min  hr_bpm_max  resp_rate_min  resp_rate_max melatonin  \\\n",
      "14       9.0        63.0        75.0            9.0           12.5        No   \n",
      "15       7.0        59.0        73.0            8.5           13.0        No   \n",
      "17       2.0        62.0        77.0            9.0           14.5        No   \n",
      "18       7.0        60.0        70.0            9.0           13.0        No   \n",
      "19       4.0        62.0        76.0            9.0           13.5       Yes   \n",
      "\n",
      "   magnesium neuriva chamomile bath shower meditation  \n",
      "14       Yes     Yes       Yes  Yes     No        Yes  \n",
      "15       Yes     Yes        No   No    Yes        Yes  \n",
      "17       Yes     Yes        No  Yes     No        Yes  \n",
      "18       Yes     Yes        No   No     No        Yes  \n",
      "19       Yes      No        No   No     No         No  \n"
     ]
    }
   ],
   "source": [
    "dup_rows = sleep_df.iloc[14:19]\n",
    "print(dup_rows)"
   ]
  },
  {
   "attachments": {},
   "cell_type": "markdown",
   "metadata": {},
   "source": [
    "Looks good. \n",
    "We know we have a small number of null values from the numbers output in cell 3. If there was a night where the respondent's Watch did not record sleep data, that could cause a row with multiple null values. For our purposes, an occasional isolated null value won't have a great impact on the overall calcuations and correlations. Those could be filled with the column mean. But if one row (one night's sleep) is missing multiple metrics, it can be deleted from the DataFrame for ease of computation and more accurate data findings. "
   ]
  },
  {
   "cell_type": "code",
   "execution_count": 12,
   "metadata": {},
   "outputs": [
    {
     "data": {
      "text/plain": [
       "sleep_date         0\n",
       "day_of_the_week    0\n",
       "hours_sleep        0\n",
       "awake_pct          1\n",
       "rem_pct            1\n",
       "core_pct           1\n",
       "deep_pct           1\n",
       "hr_bpm_min         1\n",
       "hr_bpm_max         1\n",
       "resp_rate_min      1\n",
       "resp_rate_max      1\n",
       "melatonin          0\n",
       "magnesium          0\n",
       "neuriva            0\n",
       "chamomile          0\n",
       "bath               0\n",
       "shower             0\n",
       "meditation         0\n",
       "dtype: int64"
      ]
     },
     "execution_count": 12,
     "metadata": {},
     "output_type": "execute_result"
    }
   ],
   "source": [
    "sleep_df.isnull().sum()"
   ]
  },
  {
   "attachments": {},
   "cell_type": "markdown",
   "metadata": {},
   "source": [
    "We have 1 null value in each of these columns: awake_pct, rem_pct, core_pct, deep_pct, hr_bpm_min, hr_bpm_max, resp_rate_min, and resp_rate_max. This is all Watch data and not subject-reported data, so this could be from the same row. We don't want to assume this and delete these null values, however. Let's take a look at where these null values are. "
   ]
  },
  {
   "cell_type": "code",
   "execution_count": 13,
   "metadata": {},
   "outputs": [
    {
     "name": "stdout",
     "output_type": "stream",
     "text": [
      "  sleep_date day_of_the_week  hours_sleep  awake_pct  rem_pct  core_pct  \\\n",
      "8  2/15/2023       Wednesday          6.5        NaN      NaN       NaN   \n",
      "\n",
      "   deep_pct  hr_bpm_min  hr_bpm_max  resp_rate_min  resp_rate_max melatonin  \\\n",
      "8       NaN         NaN         NaN            NaN            NaN        No   \n",
      "\n",
      "  magnesium neuriva chamomile bath shower meditation  \n",
      "8       Yes     Yes        No   No    Yes        Yes  \n"
     ]
    }
   ],
   "source": [
    "null_values = sleep_df[sleep_df.isnull().any(axis=1)]\n",
    "print(null_values)"
   ]
  },
  {
   "attachments": {},
   "cell_type": "markdown",
   "metadata": {},
   "source": [
    "As suspected, the null values are all from one row. We have enough entries to delete this one row and still have a representative data set."
   ]
  },
  {
   "cell_type": "code",
   "execution_count": 14,
   "metadata": {},
   "outputs": [],
   "source": [
    "sleep_df.drop([8], inplace = True)"
   ]
  },
  {
   "attachments": {},
   "cell_type": "markdown",
   "metadata": {},
   "source": [
    "Let's check the number of rows we have now."
   ]
  },
  {
   "cell_type": "code",
   "execution_count": 15,
   "metadata": {},
   "outputs": [
    {
     "data": {
      "text/plain": [
       "(29, 18)"
      ]
     },
     "execution_count": 15,
     "metadata": {},
     "output_type": "execute_result"
    }
   ],
   "source": [
    "sleep_df.shape"
   ]
  },
  {
   "attachments": {},
   "cell_type": "markdown",
   "metadata": {},
   "source": [
    "That gives us close enough to our goal of one month of sleep data, and with all 29 records now being clean, we're set in terms of numbers.\n"
   ]
  },
  {
   "attachments": {},
   "cell_type": "markdown",
   "metadata": {},
   "source": [
    "Looking at the outputs given at various stages, we do have some columns that have data in a \"Yes\" or \"No\" string format. Given the calculations and manipulations we want to do, it may be in our best interests to convert these \"Yes\" and \"No\" responses from the Form into a data-analysis-friendly Boolean data type."
   ]
  },
  {
   "cell_type": "code",
   "execution_count": 16,
   "metadata": {},
   "outputs": [
    {
     "name": "stdout",
     "output_type": "stream",
     "text": [
      "<class 'pandas.core.frame.DataFrame'>\n",
      "Int64Index: 29 entries, 0 to 30\n",
      "Data columns (total 18 columns):\n",
      " #   Column           Non-Null Count  Dtype  \n",
      "---  ------           --------------  -----  \n",
      " 0   sleep_date       29 non-null     object \n",
      " 1   day_of_the_week  29 non-null     object \n",
      " 2   hours_sleep      29 non-null     float64\n",
      " 3   awake_pct        29 non-null     float64\n",
      " 4   rem_pct          29 non-null     float64\n",
      " 5   core_pct         29 non-null     float64\n",
      " 6   deep_pct         29 non-null     float64\n",
      " 7   hr_bpm_min       29 non-null     float64\n",
      " 8   hr_bpm_max       29 non-null     float64\n",
      " 9   resp_rate_min    29 non-null     float64\n",
      " 10  resp_rate_max    29 non-null     float64\n",
      " 11  melatonin        29 non-null     bool   \n",
      " 12  magnesium        29 non-null     bool   \n",
      " 13  neuriva          29 non-null     bool   \n",
      " 14  chamomile        29 non-null     bool   \n",
      " 15  bath             29 non-null     bool   \n",
      " 16  shower           29 non-null     bool   \n",
      " 17  meditation       29 non-null     bool   \n",
      "dtypes: bool(7), float64(9), object(2)\n",
      "memory usage: 2.9+ KB\n"
     ]
    },
    {
     "data": {
      "text/html": [
       "<div>\n",
       "<style scoped>\n",
       "    .dataframe tbody tr th:only-of-type {\n",
       "        vertical-align: middle;\n",
       "    }\n",
       "\n",
       "    .dataframe tbody tr th {\n",
       "        vertical-align: top;\n",
       "    }\n",
       "\n",
       "    .dataframe thead th {\n",
       "        text-align: right;\n",
       "    }\n",
       "</style>\n",
       "<table border=\"1\" class=\"dataframe\">\n",
       "  <thead>\n",
       "    <tr style=\"text-align: right;\">\n",
       "      <th></th>\n",
       "      <th>sleep_date</th>\n",
       "      <th>day_of_the_week</th>\n",
       "      <th>hours_sleep</th>\n",
       "      <th>awake_pct</th>\n",
       "      <th>rem_pct</th>\n",
       "      <th>core_pct</th>\n",
       "      <th>deep_pct</th>\n",
       "      <th>hr_bpm_min</th>\n",
       "      <th>hr_bpm_max</th>\n",
       "      <th>resp_rate_min</th>\n",
       "      <th>resp_rate_max</th>\n",
       "      <th>melatonin</th>\n",
       "      <th>magnesium</th>\n",
       "      <th>neuriva</th>\n",
       "      <th>chamomile</th>\n",
       "      <th>bath</th>\n",
       "      <th>shower</th>\n",
       "      <th>meditation</th>\n",
       "    </tr>\n",
       "  </thead>\n",
       "  <tbody>\n",
       "    <tr>\n",
       "      <th>0</th>\n",
       "      <td>2/7/2023</td>\n",
       "      <td>Tuesday</td>\n",
       "      <td>7.30</td>\n",
       "      <td>3.0</td>\n",
       "      <td>12.0</td>\n",
       "      <td>80.0</td>\n",
       "      <td>5.0</td>\n",
       "      <td>61.0</td>\n",
       "      <td>69.0</td>\n",
       "      <td>8.0</td>\n",
       "      <td>12.5</td>\n",
       "      <td>False</td>\n",
       "      <td>True</td>\n",
       "      <td>False</td>\n",
       "      <td>False</td>\n",
       "      <td>True</td>\n",
       "      <td>False</td>\n",
       "      <td>True</td>\n",
       "    </tr>\n",
       "    <tr>\n",
       "      <th>1</th>\n",
       "      <td>2/8/2023</td>\n",
       "      <td>Wednesday</td>\n",
       "      <td>6.83</td>\n",
       "      <td>5.0</td>\n",
       "      <td>22.0</td>\n",
       "      <td>67.0</td>\n",
       "      <td>6.0</td>\n",
       "      <td>62.0</td>\n",
       "      <td>78.0</td>\n",
       "      <td>8.0</td>\n",
       "      <td>12.5</td>\n",
       "      <td>True</td>\n",
       "      <td>True</td>\n",
       "      <td>False</td>\n",
       "      <td>False</td>\n",
       "      <td>False</td>\n",
       "      <td>False</td>\n",
       "      <td>True</td>\n",
       "    </tr>\n",
       "    <tr>\n",
       "      <th>2</th>\n",
       "      <td>2/9/2023</td>\n",
       "      <td>Thursday</td>\n",
       "      <td>6.68</td>\n",
       "      <td>4.0</td>\n",
       "      <td>11.0</td>\n",
       "      <td>79.0</td>\n",
       "      <td>6.0</td>\n",
       "      <td>61.0</td>\n",
       "      <td>73.0</td>\n",
       "      <td>8.5</td>\n",
       "      <td>12.5</td>\n",
       "      <td>True</td>\n",
       "      <td>True</td>\n",
       "      <td>False</td>\n",
       "      <td>False</td>\n",
       "      <td>True</td>\n",
       "      <td>False</td>\n",
       "      <td>False</td>\n",
       "    </tr>\n",
       "    <tr>\n",
       "      <th>3</th>\n",
       "      <td>2/10/2023</td>\n",
       "      <td>Friday</td>\n",
       "      <td>7.50</td>\n",
       "      <td>4.0</td>\n",
       "      <td>14.0</td>\n",
       "      <td>78.0</td>\n",
       "      <td>4.0</td>\n",
       "      <td>59.0</td>\n",
       "      <td>70.0</td>\n",
       "      <td>9.0</td>\n",
       "      <td>14.0</td>\n",
       "      <td>False</td>\n",
       "      <td>True</td>\n",
       "      <td>False</td>\n",
       "      <td>False</td>\n",
       "      <td>False</td>\n",
       "      <td>False</td>\n",
       "      <td>True</td>\n",
       "    </tr>\n",
       "    <tr>\n",
       "      <th>4</th>\n",
       "      <td>2/11/2023</td>\n",
       "      <td>Saturday</td>\n",
       "      <td>6.55</td>\n",
       "      <td>3.0</td>\n",
       "      <td>21.0</td>\n",
       "      <td>71.0</td>\n",
       "      <td>5.0</td>\n",
       "      <td>58.0</td>\n",
       "      <td>76.0</td>\n",
       "      <td>8.0</td>\n",
       "      <td>15.0</td>\n",
       "      <td>False</td>\n",
       "      <td>False</td>\n",
       "      <td>False</td>\n",
       "      <td>False</td>\n",
       "      <td>False</td>\n",
       "      <td>False</td>\n",
       "      <td>False</td>\n",
       "    </tr>\n",
       "  </tbody>\n",
       "</table>\n",
       "</div>"
      ],
      "text/plain": [
       "  sleep_date day_of_the_week  hours_sleep  awake_pct  rem_pct  core_pct  \\\n",
       "0   2/7/2023         Tuesday         7.30        3.0     12.0      80.0   \n",
       "1   2/8/2023       Wednesday         6.83        5.0     22.0      67.0   \n",
       "2   2/9/2023        Thursday         6.68        4.0     11.0      79.0   \n",
       "3  2/10/2023          Friday         7.50        4.0     14.0      78.0   \n",
       "4  2/11/2023        Saturday         6.55        3.0     21.0      71.0   \n",
       "\n",
       "   deep_pct  hr_bpm_min  hr_bpm_max  resp_rate_min  resp_rate_max  melatonin  \\\n",
       "0       5.0        61.0        69.0            8.0           12.5      False   \n",
       "1       6.0        62.0        78.0            8.0           12.5       True   \n",
       "2       6.0        61.0        73.0            8.5           12.5       True   \n",
       "3       4.0        59.0        70.0            9.0           14.0      False   \n",
       "4       5.0        58.0        76.0            8.0           15.0      False   \n",
       "\n",
       "   magnesium  neuriva  chamomile   bath  shower  meditation  \n",
       "0       True    False      False   True   False        True  \n",
       "1       True    False      False  False   False        True  \n",
       "2       True    False      False   True   False       False  \n",
       "3       True    False      False  False   False        True  \n",
       "4      False    False      False  False   False       False  "
      ]
     },
     "execution_count": 16,
     "metadata": {},
     "output_type": "execute_result"
    }
   ],
   "source": [
    "sleep_df.replace(to_replace={'Yes': True, 'No': False}, inplace=True)\n",
    "sleep_df.info()\n",
    "sleep_df.head()"
   ]
  },
  {
   "attachments": {},
   "cell_type": "markdown",
   "metadata": {},
   "source": [
    "One last thing before we start exploring relationships in our data--our planned analysis of this data for this project doesn't include any kind of calculations using the \"sleep_date\" column. But if this project were to be expanded, calculations based on the season or even whether the sleep occurred during EST or DST could need to be performed. Based on the output of cell 3, we can see the sleep_date column is a string. Let's make that a date data type. "
   ]
  },
  {
   "cell_type": "code",
   "execution_count": 17,
   "metadata": {},
   "outputs": [
    {
     "name": "stdout",
     "output_type": "stream",
     "text": [
      "<class 'pandas.core.frame.DataFrame'>\n",
      "Int64Index: 29 entries, 0 to 30\n",
      "Data columns (total 18 columns):\n",
      " #   Column           Non-Null Count  Dtype         \n",
      "---  ------           --------------  -----         \n",
      " 0   sleep_date       29 non-null     datetime64[ns]\n",
      " 1   day_of_the_week  29 non-null     object        \n",
      " 2   hours_sleep      29 non-null     float64       \n",
      " 3   awake_pct        29 non-null     float64       \n",
      " 4   rem_pct          29 non-null     float64       \n",
      " 5   core_pct         29 non-null     float64       \n",
      " 6   deep_pct         29 non-null     float64       \n",
      " 7   hr_bpm_min       29 non-null     float64       \n",
      " 8   hr_bpm_max       29 non-null     float64       \n",
      " 9   resp_rate_min    29 non-null     float64       \n",
      " 10  resp_rate_max    29 non-null     float64       \n",
      " 11  melatonin        29 non-null     bool          \n",
      " 12  magnesium        29 non-null     bool          \n",
      " 13  neuriva          29 non-null     bool          \n",
      " 14  chamomile        29 non-null     bool          \n",
      " 15  bath             29 non-null     bool          \n",
      " 16  shower           29 non-null     bool          \n",
      " 17  meditation       29 non-null     bool          \n",
      "dtypes: bool(7), datetime64[ns](1), float64(9), object(1)\n",
      "memory usage: 2.9+ KB\n"
     ]
    }
   ],
   "source": [
    "sleep_df['sleep_date'] = pd.to_datetime(sleep_df['sleep_date'])\n",
    "sleep_df.info()"
   ]
  },
  {
   "attachments": {},
   "cell_type": "markdown",
   "metadata": {},
   "source": [
    "Finally, let's save a clean copy of our DataFrame as a new CSV file we can use in other projects. This will also give us a clean CSV file with our month of sleep data that can very easily be exported in an Excel file. MyChart, the software used by all of our local medical offices to communicate with patients, accepts Excel files as part of its medical data uploads and messaging from patient to doctor. "
   ]
  },
  {
   "cell_type": "code",
   "execution_count": 18,
   "metadata": {},
   "outputs": [],
   "source": [
    "sleep_df.to_csv('clean_sleep_data.csv')"
   ]
  },
  {
   "attachments": {},
   "cell_type": "markdown",
   "metadata": {},
   "source": [
    "### Finding Frequencies, Minimums, Maximums, Means, and Basic Correlations"
   ]
  },
  {
   "attachments": {},
   "cell_type": "markdown",
   "metadata": {},
   "source": [
    "To get a sense of where we need to explore relationships between percentages of core, REM, and deep sleep to sleep supplements and sleep hygeine behaviors, let's take means for the sleep percentages, look at some minimum values and maximum values, count the Boolean values for each sleep bahavior and supplement, and check for some very basic correlations across the enture DataFrame."
   ]
  },
  {
   "attachments": {},
   "cell_type": "markdown",
   "metadata": {},
   "source": [
    "First, let's find the means for each column that has a sleep analysis percentage value. "
   ]
  },
  {
   "cell_type": "code",
   "execution_count": 19,
   "metadata": {},
   "outputs": [
    {
     "data": {
      "text/plain": [
       "hours_sleep     6.879310\n",
       "awake_pct       3.827586\n",
       "rem_pct        15.379310\n",
       "core_pct       75.241379\n",
       "deep_pct        5.551724\n",
       "dtype: float64"
      ]
     },
     "execution_count": 19,
     "metadata": {},
     "output_type": "execute_result"
    }
   ],
   "source": [
    "sleep_means = sleep_df[['hours_sleep', 'awake_pct', 'rem_pct', 'core_pct', 'deep_pct']].mean()\n",
    "sleep_means"
   ]
  },
  {
   "attachments": {},
   "cell_type": "markdown",
   "metadata": {},
   "source": [
    "Now let's check the minimum and maximum values for each of these columns. These values may be important for plotting later, and also will give us a sense of the range of values we're working with in each column. "
   ]
  },
  {
   "cell_type": "code",
   "execution_count": 20,
   "metadata": {},
   "outputs": [
    {
     "data": {
      "text/plain": [
       "hours_sleep     5.72\n",
       "awake_pct       1.00\n",
       "rem_pct         9.00\n",
       "core_pct       65.00\n",
       "deep_pct        1.00\n",
       "dtype: float64"
      ]
     },
     "execution_count": 20,
     "metadata": {},
     "output_type": "execute_result"
    }
   ],
   "source": [
    "sleep_mins = sleep_df[['hours_sleep', 'awake_pct', 'rem_pct', 'core_pct', 'deep_pct']].min()\n",
    "sleep_mins"
   ]
  },
  {
   "cell_type": "code",
   "execution_count": 21,
   "metadata": {},
   "outputs": [
    {
     "data": {
      "text/plain": [
       "hours_sleep     9.58\n",
       "awake_pct      12.00\n",
       "rem_pct        24.00\n",
       "core_pct       86.00\n",
       "deep_pct       10.00\n",
       "dtype: float64"
      ]
     },
     "execution_count": 21,
     "metadata": {},
     "output_type": "execute_result"
    }
   ],
   "source": [
    "sleep_max = sleep_df[['hours_sleep', 'awake_pct', 'rem_pct', 'core_pct', 'deep_pct']].max()\n",
    "sleep_max"
   ]
  },
  {
   "attachments": {},
   "cell_type": "markdown",
   "metadata": {},
   "source": [
    "Now let's find out how many nights of sleep had each of our sleep supplements and sleep habits in use.  This will help us see if there are any supplements or behaviors that were used so frequently that they shouldn't be considered variables in further calculations. (In other words, they were used close enough to every night of the study to be treated as constants.)"
   ]
  },
  {
   "cell_type": "code",
   "execution_count": 22,
   "metadata": {},
   "outputs": [
    {
     "name": "stdout",
     "output_type": "stream",
     "text": [
      "False    18\n",
      "True     11\n",
      "Name: melatonin, dtype: int64\n",
      "True     26\n",
      "False     3\n",
      "Name: magnesium, dtype: int64\n",
      "False    18\n",
      "True     11\n",
      "Name: neuriva, dtype: int64\n",
      "False    24\n",
      "True      5\n",
      "Name: chamomile, dtype: int64\n",
      "False    20\n",
      "True      9\n",
      "Name: bath, dtype: int64\n",
      "False    27\n",
      "True      2\n",
      "Name: shower, dtype: int64\n",
      "True     23\n",
      "False     6\n",
      "Name: meditation, dtype: int64\n"
     ]
    }
   ],
   "source": [
    "print(sleep_df['melatonin'].value_counts())\n",
    "print(sleep_df['magnesium'].value_counts())\n",
    "print(sleep_df['neuriva'].value_counts())\n",
    "print(sleep_df['chamomile'].value_counts())\n",
    "print(sleep_df['bath'].value_counts())\n",
    "print(sleep_df['shower'].value_counts())\n",
    "print(sleep_df['meditation'].value_counts())"
   ]
  },
  {
   "attachments": {},
   "cell_type": "markdown",
   "metadata": {},
   "source": [
    "Magnesium was used on so many nights it's probably not helpful to view it as a variable in later calculations. Likewise with taking a shower before bed; there were only two occurrences of that sleep hygeine behavior, so it's probably not relevant to our later analysis."
   ]
  },
  {
   "attachments": {},
   "cell_type": "markdown",
   "metadata": {},
   "source": [
    "Now let's go fishing for some correlations across numeric values in the entire DataFrame. The Boolean values will be included as True will equal 1, and False will equal 0. This can be useful in the next step of the analysis, in which we break everything down by individual supplement and individual sleep behavior. This can also help us with later plotting. (Note: as discussed in the README file, this line of code throws an error about 'numeric_only' in un-updated versions of pandas. It shouldn't affect any later lines of code or calculations.)"
   ]
  },
  {
   "cell_type": "code",
   "execution_count": 23,
   "metadata": {},
   "outputs": [
    {
     "data": {
      "text/html": [
       "<div>\n",
       "<style scoped>\n",
       "    .dataframe tbody tr th:only-of-type {\n",
       "        vertical-align: middle;\n",
       "    }\n",
       "\n",
       "    .dataframe tbody tr th {\n",
       "        vertical-align: top;\n",
       "    }\n",
       "\n",
       "    .dataframe thead th {\n",
       "        text-align: right;\n",
       "    }\n",
       "</style>\n",
       "<table border=\"1\" class=\"dataframe\">\n",
       "  <thead>\n",
       "    <tr style=\"text-align: right;\">\n",
       "      <th></th>\n",
       "      <th>hours_sleep</th>\n",
       "      <th>awake_pct</th>\n",
       "      <th>rem_pct</th>\n",
       "      <th>core_pct</th>\n",
       "      <th>deep_pct</th>\n",
       "      <th>hr_bpm_min</th>\n",
       "      <th>hr_bpm_max</th>\n",
       "      <th>resp_rate_min</th>\n",
       "      <th>resp_rate_max</th>\n",
       "      <th>melatonin</th>\n",
       "      <th>magnesium</th>\n",
       "      <th>neuriva</th>\n",
       "      <th>chamomile</th>\n",
       "      <th>bath</th>\n",
       "      <th>shower</th>\n",
       "      <th>meditation</th>\n",
       "    </tr>\n",
       "  </thead>\n",
       "  <tbody>\n",
       "    <tr>\n",
       "      <th>hours_sleep</th>\n",
       "      <td>1.000000</td>\n",
       "      <td>0.012646</td>\n",
       "      <td>-0.073850</td>\n",
       "      <td>0.088216</td>\n",
       "      <td>-0.082623</td>\n",
       "      <td>0.127645</td>\n",
       "      <td>-0.095716</td>\n",
       "      <td>-0.079571</td>\n",
       "      <td>-0.123843</td>\n",
       "      <td>0.092718</td>\n",
       "      <td>0.130354</td>\n",
       "      <td>-0.091336</td>\n",
       "      <td>0.195862</td>\n",
       "      <td>0.227078</td>\n",
       "      <td>-0.153297</td>\n",
       "      <td>-0.019006</td>\n",
       "    </tr>\n",
       "    <tr>\n",
       "      <th>awake_pct</th>\n",
       "      <td>0.012646</td>\n",
       "      <td>1.000000</td>\n",
       "      <td>-0.128370</td>\n",
       "      <td>-0.266046</td>\n",
       "      <td>-0.054188</td>\n",
       "      <td>-0.094974</td>\n",
       "      <td>0.168214</td>\n",
       "      <td>-0.146558</td>\n",
       "      <td>0.724692</td>\n",
       "      <td>0.200929</td>\n",
       "      <td>0.243374</td>\n",
       "      <td>0.030551</td>\n",
       "      <td>-0.181121</td>\n",
       "      <td>-0.301931</td>\n",
       "      <td>-0.173250</td>\n",
       "      <td>-0.409573</td>\n",
       "    </tr>\n",
       "    <tr>\n",
       "      <th>rem_pct</th>\n",
       "      <td>-0.073850</td>\n",
       "      <td>-0.128370</td>\n",
       "      <td>1.000000</td>\n",
       "      <td>-0.853399</td>\n",
       "      <td>0.127879</td>\n",
       "      <td>-0.144696</td>\n",
       "      <td>0.235054</td>\n",
       "      <td>0.121994</td>\n",
       "      <td>0.101269</td>\n",
       "      <td>-0.238483</td>\n",
       "      <td>-0.146804</td>\n",
       "      <td>0.201626</td>\n",
       "      <td>0.264563</td>\n",
       "      <td>-0.089248</td>\n",
       "      <td>-0.052931</td>\n",
       "      <td>0.042849</td>\n",
       "    </tr>\n",
       "    <tr>\n",
       "      <th>core_pct</th>\n",
       "      <td>0.088216</td>\n",
       "      <td>-0.266046</td>\n",
       "      <td>-0.853399</td>\n",
       "      <td>1.000000</td>\n",
       "      <td>-0.449657</td>\n",
       "      <td>0.275001</td>\n",
       "      <td>-0.176858</td>\n",
       "      <td>-0.048775</td>\n",
       "      <td>-0.378565</td>\n",
       "      <td>0.220427</td>\n",
       "      <td>-0.027414</td>\n",
       "      <td>-0.265071</td>\n",
       "      <td>-0.194139</td>\n",
       "      <td>0.195581</td>\n",
       "      <td>0.116652</td>\n",
       "      <td>0.104165</td>\n",
       "    </tr>\n",
       "    <tr>\n",
       "      <th>deep_pct</th>\n",
       "      <td>-0.082623</td>\n",
       "      <td>-0.054188</td>\n",
       "      <td>0.127879</td>\n",
       "      <td>-0.449657</td>\n",
       "      <td>1.000000</td>\n",
       "      <td>-0.313420</td>\n",
       "      <td>-0.252887</td>\n",
       "      <td>0.005836</td>\n",
       "      <td>0.013467</td>\n",
       "      <td>-0.263798</td>\n",
       "      <td>0.157868</td>\n",
       "      <td>0.221333</td>\n",
       "      <td>0.107442</td>\n",
       "      <td>0.001350</td>\n",
       "      <td>-0.007392</td>\n",
       "      <td>0.058573</td>\n",
       "    </tr>\n",
       "    <tr>\n",
       "      <th>hr_bpm_min</th>\n",
       "      <td>0.127645</td>\n",
       "      <td>-0.094974</td>\n",
       "      <td>-0.144696</td>\n",
       "      <td>0.275001</td>\n",
       "      <td>-0.313420</td>\n",
       "      <td>1.000000</td>\n",
       "      <td>0.556825</td>\n",
       "      <td>0.008247</td>\n",
       "      <td>-0.251494</td>\n",
       "      <td>0.180926</td>\n",
       "      <td>0.223076</td>\n",
       "      <td>-0.082735</td>\n",
       "      <td>-0.186857</td>\n",
       "      <td>0.444354</td>\n",
       "      <td>0.141016</td>\n",
       "      <td>-0.075143</td>\n",
       "    </tr>\n",
       "    <tr>\n",
       "      <th>hr_bpm_max</th>\n",
       "      <td>-0.095716</td>\n",
       "      <td>0.168214</td>\n",
       "      <td>0.235054</td>\n",
       "      <td>-0.176858</td>\n",
       "      <td>-0.252887</td>\n",
       "      <td>0.556825</td>\n",
       "      <td>1.000000</td>\n",
       "      <td>0.127589</td>\n",
       "      <td>0.217570</td>\n",
       "      <td>0.166904</td>\n",
       "      <td>-0.029426</td>\n",
       "      <td>-0.011629</td>\n",
       "      <td>-0.062384</td>\n",
       "      <td>0.058111</td>\n",
       "      <td>0.023577</td>\n",
       "      <td>-0.115528</td>\n",
       "    </tr>\n",
       "    <tr>\n",
       "      <th>resp_rate_min</th>\n",
       "      <td>-0.079571</td>\n",
       "      <td>-0.146558</td>\n",
       "      <td>0.121994</td>\n",
       "      <td>-0.048775</td>\n",
       "      <td>0.005836</td>\n",
       "      <td>0.008247</td>\n",
       "      <td>0.127589</td>\n",
       "      <td>1.000000</td>\n",
       "      <td>0.177450</td>\n",
       "      <td>-0.191846</td>\n",
       "      <td>-0.072993</td>\n",
       "      <td>0.389418</td>\n",
       "      <td>0.275855</td>\n",
       "      <td>-0.204212</td>\n",
       "      <td>0.005483</td>\n",
       "      <td>0.188640</td>\n",
       "    </tr>\n",
       "    <tr>\n",
       "      <th>resp_rate_max</th>\n",
       "      <td>-0.123843</td>\n",
       "      <td>0.724692</td>\n",
       "      <td>0.101269</td>\n",
       "      <td>-0.378565</td>\n",
       "      <td>0.013467</td>\n",
       "      <td>-0.251494</td>\n",
       "      <td>0.217570</td>\n",
       "      <td>0.177450</td>\n",
       "      <td>1.000000</td>\n",
       "      <td>-0.033165</td>\n",
       "      <td>-0.024769</td>\n",
       "      <td>0.162196</td>\n",
       "      <td>-0.082539</td>\n",
       "      <td>-0.266311</td>\n",
       "      <td>-0.095258</td>\n",
       "      <td>-0.181247</td>\n",
       "    </tr>\n",
       "    <tr>\n",
       "      <th>melatonin</th>\n",
       "      <td>0.092718</td>\n",
       "      <td>0.200929</td>\n",
       "      <td>-0.238483</td>\n",
       "      <td>0.220427</td>\n",
       "      <td>-0.263798</td>\n",
       "      <td>0.180926</td>\n",
       "      <td>0.166904</td>\n",
       "      <td>-0.191846</td>\n",
       "      <td>-0.033165</td>\n",
       "      <td>1.000000</td>\n",
       "      <td>0.032187</td>\n",
       "      <td>-0.611111</td>\n",
       "      <td>0.019462</td>\n",
       "      <td>0.090049</td>\n",
       "      <td>0.067697</td>\n",
       "      <td>-0.127042</td>\n",
       "    </tr>\n",
       "    <tr>\n",
       "      <th>magnesium</th>\n",
       "      <td>0.130354</td>\n",
       "      <td>0.243374</td>\n",
       "      <td>-0.146804</td>\n",
       "      <td>-0.027414</td>\n",
       "      <td>0.157868</td>\n",
       "      <td>0.223076</td>\n",
       "      <td>-0.029426</td>\n",
       "      <td>-0.072993</td>\n",
       "      <td>-0.024769</td>\n",
       "      <td>0.032187</td>\n",
       "      <td>1.000000</td>\n",
       "      <td>0.265543</td>\n",
       "      <td>0.155043</td>\n",
       "      <td>0.227866</td>\n",
       "      <td>0.092450</td>\n",
       "      <td>0.106024</td>\n",
       "    </tr>\n",
       "    <tr>\n",
       "      <th>neuriva</th>\n",
       "      <td>-0.091336</td>\n",
       "      <td>0.030551</td>\n",
       "      <td>0.201626</td>\n",
       "      <td>-0.265071</td>\n",
       "      <td>0.221333</td>\n",
       "      <td>-0.082735</td>\n",
       "      <td>-0.011629</td>\n",
       "      <td>0.389418</td>\n",
       "      <td>0.162196</td>\n",
       "      <td>-0.611111</td>\n",
       "      <td>0.265543</td>\n",
       "      <td>1.000000</td>\n",
       "      <td>0.207600</td>\n",
       "      <td>-0.063564</td>\n",
       "      <td>0.067697</td>\n",
       "      <td>0.223836</td>\n",
       "    </tr>\n",
       "    <tr>\n",
       "      <th>chamomile</th>\n",
       "      <td>0.195862</td>\n",
       "      <td>-0.181121</td>\n",
       "      <td>0.264563</td>\n",
       "      <td>-0.194139</td>\n",
       "      <td>0.107442</td>\n",
       "      <td>-0.186857</td>\n",
       "      <td>-0.062384</td>\n",
       "      <td>0.275855</td>\n",
       "      <td>-0.082539</td>\n",
       "      <td>0.019462</td>\n",
       "      <td>0.155043</td>\n",
       "      <td>0.207600</td>\n",
       "      <td>1.000000</td>\n",
       "      <td>0.088454</td>\n",
       "      <td>-0.124226</td>\n",
       "      <td>0.233126</td>\n",
       "    </tr>\n",
       "    <tr>\n",
       "      <th>bath</th>\n",
       "      <td>0.227078</td>\n",
       "      <td>-0.301931</td>\n",
       "      <td>-0.089248</td>\n",
       "      <td>0.195581</td>\n",
       "      <td>0.001350</td>\n",
       "      <td>0.444354</td>\n",
       "      <td>0.058111</td>\n",
       "      <td>-0.204212</td>\n",
       "      <td>-0.266311</td>\n",
       "      <td>0.090049</td>\n",
       "      <td>0.227866</td>\n",
       "      <td>-0.063564</td>\n",
       "      <td>0.088454</td>\n",
       "      <td>1.000000</td>\n",
       "      <td>-0.182574</td>\n",
       "      <td>0.158622</td>\n",
       "    </tr>\n",
       "    <tr>\n",
       "      <th>shower</th>\n",
       "      <td>-0.153297</td>\n",
       "      <td>-0.173250</td>\n",
       "      <td>-0.052931</td>\n",
       "      <td>0.116652</td>\n",
       "      <td>-0.007392</td>\n",
       "      <td>0.141016</td>\n",
       "      <td>0.023577</td>\n",
       "      <td>0.005483</td>\n",
       "      <td>-0.095258</td>\n",
       "      <td>0.067697</td>\n",
       "      <td>0.092450</td>\n",
       "      <td>0.067697</td>\n",
       "      <td>-0.124226</td>\n",
       "      <td>-0.182574</td>\n",
       "      <td>1.000000</td>\n",
       "      <td>0.139010</td>\n",
       "    </tr>\n",
       "    <tr>\n",
       "      <th>meditation</th>\n",
       "      <td>-0.019006</td>\n",
       "      <td>-0.409573</td>\n",
       "      <td>0.042849</td>\n",
       "      <td>0.104165</td>\n",
       "      <td>0.058573</td>\n",
       "      <td>-0.075143</td>\n",
       "      <td>-0.115528</td>\n",
       "      <td>0.188640</td>\n",
       "      <td>-0.181247</td>\n",
       "      <td>-0.127042</td>\n",
       "      <td>0.106024</td>\n",
       "      <td>0.223836</td>\n",
       "      <td>0.233126</td>\n",
       "      <td>0.158622</td>\n",
       "      <td>0.139010</td>\n",
       "      <td>1.000000</td>\n",
       "    </tr>\n",
       "  </tbody>\n",
       "</table>\n",
       "</div>"
      ],
      "text/plain": [
       "               hours_sleep  awake_pct   rem_pct  core_pct  deep_pct  \\\n",
       "hours_sleep       1.000000   0.012646 -0.073850  0.088216 -0.082623   \n",
       "awake_pct         0.012646   1.000000 -0.128370 -0.266046 -0.054188   \n",
       "rem_pct          -0.073850  -0.128370  1.000000 -0.853399  0.127879   \n",
       "core_pct          0.088216  -0.266046 -0.853399  1.000000 -0.449657   \n",
       "deep_pct         -0.082623  -0.054188  0.127879 -0.449657  1.000000   \n",
       "hr_bpm_min        0.127645  -0.094974 -0.144696  0.275001 -0.313420   \n",
       "hr_bpm_max       -0.095716   0.168214  0.235054 -0.176858 -0.252887   \n",
       "resp_rate_min    -0.079571  -0.146558  0.121994 -0.048775  0.005836   \n",
       "resp_rate_max    -0.123843   0.724692  0.101269 -0.378565  0.013467   \n",
       "melatonin         0.092718   0.200929 -0.238483  0.220427 -0.263798   \n",
       "magnesium         0.130354   0.243374 -0.146804 -0.027414  0.157868   \n",
       "neuriva          -0.091336   0.030551  0.201626 -0.265071  0.221333   \n",
       "chamomile         0.195862  -0.181121  0.264563 -0.194139  0.107442   \n",
       "bath              0.227078  -0.301931 -0.089248  0.195581  0.001350   \n",
       "shower           -0.153297  -0.173250 -0.052931  0.116652 -0.007392   \n",
       "meditation       -0.019006  -0.409573  0.042849  0.104165  0.058573   \n",
       "\n",
       "               hr_bpm_min  hr_bpm_max  resp_rate_min  resp_rate_max  \\\n",
       "hours_sleep      0.127645   -0.095716      -0.079571      -0.123843   \n",
       "awake_pct       -0.094974    0.168214      -0.146558       0.724692   \n",
       "rem_pct         -0.144696    0.235054       0.121994       0.101269   \n",
       "core_pct         0.275001   -0.176858      -0.048775      -0.378565   \n",
       "deep_pct        -0.313420   -0.252887       0.005836       0.013467   \n",
       "hr_bpm_min       1.000000    0.556825       0.008247      -0.251494   \n",
       "hr_bpm_max       0.556825    1.000000       0.127589       0.217570   \n",
       "resp_rate_min    0.008247    0.127589       1.000000       0.177450   \n",
       "resp_rate_max   -0.251494    0.217570       0.177450       1.000000   \n",
       "melatonin        0.180926    0.166904      -0.191846      -0.033165   \n",
       "magnesium        0.223076   -0.029426      -0.072993      -0.024769   \n",
       "neuriva         -0.082735   -0.011629       0.389418       0.162196   \n",
       "chamomile       -0.186857   -0.062384       0.275855      -0.082539   \n",
       "bath             0.444354    0.058111      -0.204212      -0.266311   \n",
       "shower           0.141016    0.023577       0.005483      -0.095258   \n",
       "meditation      -0.075143   -0.115528       0.188640      -0.181247   \n",
       "\n",
       "               melatonin  magnesium   neuriva  chamomile      bath    shower  \\\n",
       "hours_sleep     0.092718   0.130354 -0.091336   0.195862  0.227078 -0.153297   \n",
       "awake_pct       0.200929   0.243374  0.030551  -0.181121 -0.301931 -0.173250   \n",
       "rem_pct        -0.238483  -0.146804  0.201626   0.264563 -0.089248 -0.052931   \n",
       "core_pct        0.220427  -0.027414 -0.265071  -0.194139  0.195581  0.116652   \n",
       "deep_pct       -0.263798   0.157868  0.221333   0.107442  0.001350 -0.007392   \n",
       "hr_bpm_min      0.180926   0.223076 -0.082735  -0.186857  0.444354  0.141016   \n",
       "hr_bpm_max      0.166904  -0.029426 -0.011629  -0.062384  0.058111  0.023577   \n",
       "resp_rate_min  -0.191846  -0.072993  0.389418   0.275855 -0.204212  0.005483   \n",
       "resp_rate_max  -0.033165  -0.024769  0.162196  -0.082539 -0.266311 -0.095258   \n",
       "melatonin       1.000000   0.032187 -0.611111   0.019462  0.090049  0.067697   \n",
       "magnesium       0.032187   1.000000  0.265543   0.155043  0.227866  0.092450   \n",
       "neuriva        -0.611111   0.265543  1.000000   0.207600 -0.063564  0.067697   \n",
       "chamomile       0.019462   0.155043  0.207600   1.000000  0.088454 -0.124226   \n",
       "bath            0.090049   0.227866 -0.063564   0.088454  1.000000 -0.182574   \n",
       "shower          0.067697   0.092450  0.067697  -0.124226 -0.182574  1.000000   \n",
       "meditation     -0.127042   0.106024  0.223836   0.233126  0.158622  0.139010   \n",
       "\n",
       "               meditation  \n",
       "hours_sleep     -0.019006  \n",
       "awake_pct       -0.409573  \n",
       "rem_pct          0.042849  \n",
       "core_pct         0.104165  \n",
       "deep_pct         0.058573  \n",
       "hr_bpm_min      -0.075143  \n",
       "hr_bpm_max      -0.115528  \n",
       "resp_rate_min    0.188640  \n",
       "resp_rate_max   -0.181247  \n",
       "melatonin       -0.127042  \n",
       "magnesium        0.106024  \n",
       "neuriva          0.223836  \n",
       "chamomile        0.233126  \n",
       "bath             0.158622  \n",
       "shower           0.139010  \n",
       "meditation       1.000000  "
      ]
     },
     "execution_count": 23,
     "metadata": {},
     "output_type": "execute_result"
    }
   ],
   "source": [
    "sleep_df.corr(numeric_only=True)"
   ]
  },
  {
   "attachments": {},
   "cell_type": "markdown",
   "metadata": {},
   "source": [
    "Only a few correlations between a supplement or behavior and a sleep-quality metric stand out. One is a relationship between maxiumum respiratory rate and the awake percentage--the higher the respiratory rate, the more time awake. Same with maximum heart rate and awake percentage--the higher the heart rate, the more time awake. This makes logical sense."
   ]
  },
  {
   "attachments": {},
   "cell_type": "markdown",
   "metadata": {},
   "source": [
    "Of more importance based on these DataFrame numbers will be extracting different sleep supplement and sleep behavior data and looking at means for our targets for determining \"good sleep\"--REM sleep and deep sleep. "
   ]
  },
  {
   "attachments": {},
   "cell_type": "markdown",
   "metadata": {},
   "source": [
    "Let's spend some time looking at some conditional selections for different sleep supplements and behaviors. Each of these selections will create a new DataFrame subset we can use for further comparisons and analysis using means and plotting. We can ignore the \"magnesium\" supplement column as we determined it had too few \"False\" values and was taken almost every night. Per the same logic we can ignore the \"shower\" behavior column as it was \"False\" almost every night of the study. "
   ]
  },
  {
   "attachments": {},
   "cell_type": "markdown",
   "metadata": {},
   "source": [
    "First up: melatonin. "
   ]
  },
  {
   "cell_type": "code",
   "execution_count": 24,
   "metadata": {},
   "outputs": [
    {
     "data": {
      "text/html": [
       "<div>\n",
       "<style scoped>\n",
       "    .dataframe tbody tr th:only-of-type {\n",
       "        vertical-align: middle;\n",
       "    }\n",
       "\n",
       "    .dataframe tbody tr th {\n",
       "        vertical-align: top;\n",
       "    }\n",
       "\n",
       "    .dataframe thead th {\n",
       "        text-align: right;\n",
       "    }\n",
       "</style>\n",
       "<table border=\"1\" class=\"dataframe\">\n",
       "  <thead>\n",
       "    <tr style=\"text-align: right;\">\n",
       "      <th></th>\n",
       "      <th>sleep_date</th>\n",
       "      <th>day_of_the_week</th>\n",
       "      <th>hours_sleep</th>\n",
       "      <th>awake_pct</th>\n",
       "      <th>rem_pct</th>\n",
       "      <th>core_pct</th>\n",
       "      <th>deep_pct</th>\n",
       "      <th>hr_bpm_min</th>\n",
       "      <th>hr_bpm_max</th>\n",
       "      <th>resp_rate_min</th>\n",
       "      <th>resp_rate_max</th>\n",
       "      <th>melatonin</th>\n",
       "      <th>magnesium</th>\n",
       "      <th>neuriva</th>\n",
       "      <th>chamomile</th>\n",
       "      <th>bath</th>\n",
       "      <th>shower</th>\n",
       "      <th>meditation</th>\n",
       "    </tr>\n",
       "  </thead>\n",
       "  <tbody>\n",
       "    <tr>\n",
       "      <th>1</th>\n",
       "      <td>2023-02-08</td>\n",
       "      <td>Wednesday</td>\n",
       "      <td>6.83</td>\n",
       "      <td>5.0</td>\n",
       "      <td>22.0</td>\n",
       "      <td>67.0</td>\n",
       "      <td>6.0</td>\n",
       "      <td>62.0</td>\n",
       "      <td>78.0</td>\n",
       "      <td>8.0</td>\n",
       "      <td>12.5</td>\n",
       "      <td>True</td>\n",
       "      <td>True</td>\n",
       "      <td>False</td>\n",
       "      <td>False</td>\n",
       "      <td>False</td>\n",
       "      <td>False</td>\n",
       "      <td>True</td>\n",
       "    </tr>\n",
       "    <tr>\n",
       "      <th>2</th>\n",
       "      <td>2023-02-09</td>\n",
       "      <td>Thursday</td>\n",
       "      <td>6.68</td>\n",
       "      <td>4.0</td>\n",
       "      <td>11.0</td>\n",
       "      <td>79.0</td>\n",
       "      <td>6.0</td>\n",
       "      <td>61.0</td>\n",
       "      <td>73.0</td>\n",
       "      <td>8.5</td>\n",
       "      <td>12.5</td>\n",
       "      <td>True</td>\n",
       "      <td>True</td>\n",
       "      <td>False</td>\n",
       "      <td>False</td>\n",
       "      <td>True</td>\n",
       "      <td>False</td>\n",
       "      <td>False</td>\n",
       "    </tr>\n",
       "    <tr>\n",
       "      <th>5</th>\n",
       "      <td>2023-02-12</td>\n",
       "      <td>Sunday</td>\n",
       "      <td>6.10</td>\n",
       "      <td>4.0</td>\n",
       "      <td>20.0</td>\n",
       "      <td>72.0</td>\n",
       "      <td>4.0</td>\n",
       "      <td>56.0</td>\n",
       "      <td>74.0</td>\n",
       "      <td>9.0</td>\n",
       "      <td>13.5</td>\n",
       "      <td>True</td>\n",
       "      <td>True</td>\n",
       "      <td>False</td>\n",
       "      <td>True</td>\n",
       "      <td>False</td>\n",
       "      <td>False</td>\n",
       "      <td>True</td>\n",
       "    </tr>\n",
       "    <tr>\n",
       "      <th>6</th>\n",
       "      <td>2023-02-13</td>\n",
       "      <td>Monday</td>\n",
       "      <td>9.58</td>\n",
       "      <td>3.0</td>\n",
       "      <td>9.0</td>\n",
       "      <td>84.0</td>\n",
       "      <td>4.0</td>\n",
       "      <td>59.0</td>\n",
       "      <td>70.0</td>\n",
       "      <td>8.5</td>\n",
       "      <td>13.5</td>\n",
       "      <td>True</td>\n",
       "      <td>True</td>\n",
       "      <td>False</td>\n",
       "      <td>True</td>\n",
       "      <td>True</td>\n",
       "      <td>False</td>\n",
       "      <td>True</td>\n",
       "    </tr>\n",
       "    <tr>\n",
       "      <th>9</th>\n",
       "      <td>2023-02-16</td>\n",
       "      <td>Thursday</td>\n",
       "      <td>6.93</td>\n",
       "      <td>1.0</td>\n",
       "      <td>19.0</td>\n",
       "      <td>73.0</td>\n",
       "      <td>7.0</td>\n",
       "      <td>59.0</td>\n",
       "      <td>70.0</td>\n",
       "      <td>8.5</td>\n",
       "      <td>14.0</td>\n",
       "      <td>True</td>\n",
       "      <td>True</td>\n",
       "      <td>False</td>\n",
       "      <td>False</td>\n",
       "      <td>True</td>\n",
       "      <td>False</td>\n",
       "      <td>True</td>\n",
       "    </tr>\n",
       "  </tbody>\n",
       "</table>\n",
       "</div>"
      ],
      "text/plain": [
       "  sleep_date day_of_the_week  hours_sleep  awake_pct  rem_pct  core_pct  \\\n",
       "1 2023-02-08       Wednesday         6.83        5.0     22.0      67.0   \n",
       "2 2023-02-09        Thursday         6.68        4.0     11.0      79.0   \n",
       "5 2023-02-12          Sunday         6.10        4.0     20.0      72.0   \n",
       "6 2023-02-13          Monday         9.58        3.0      9.0      84.0   \n",
       "9 2023-02-16        Thursday         6.93        1.0     19.0      73.0   \n",
       "\n",
       "   deep_pct  hr_bpm_min  hr_bpm_max  resp_rate_min  resp_rate_max  melatonin  \\\n",
       "1       6.0        62.0        78.0            8.0           12.5       True   \n",
       "2       6.0        61.0        73.0            8.5           12.5       True   \n",
       "5       4.0        56.0        74.0            9.0           13.5       True   \n",
       "6       4.0        59.0        70.0            8.5           13.5       True   \n",
       "9       7.0        59.0        70.0            8.5           14.0       True   \n",
       "\n",
       "   magnesium  neuriva  chamomile   bath  shower  meditation  \n",
       "1       True    False      False  False   False        True  \n",
       "2       True    False      False   True   False       False  \n",
       "5       True    False       True  False   False        True  \n",
       "6       True    False       True   True   False        True  \n",
       "9       True    False      False   True   False        True  "
      ]
     },
     "execution_count": 24,
     "metadata": {},
     "output_type": "execute_result"
    }
   ],
   "source": [
    "melatonin_df = sleep_df[sleep_df['melatonin'] == True]\n",
    "melatonin_df.head()"
   ]
  },
  {
   "cell_type": "code",
   "execution_count": 25,
   "metadata": {},
   "outputs": [
    {
     "name": "stdout",
     "output_type": "stream",
     "text": [
      "11\n"
     ]
    }
   ],
   "source": [
    "print(len(melatonin_df))"
   ]
  },
  {
   "attachments": {},
   "cell_type": "markdown",
   "metadata": {},
   "source": [
    "Let's find the mean as we did earlier for the entire sleep_df DataFrame and apply that process to this subset."
   ]
  },
  {
   "cell_type": "code",
   "execution_count": 26,
   "metadata": {},
   "outputs": [
    {
     "data": {
      "text/plain": [
       "hours_sleep     6.971818\n",
       "awake_pct       4.363636\n",
       "rem_pct        14.000000\n",
       "core_pct       76.727273\n",
       "deep_pct        4.909091\n",
       "dtype: float64"
      ]
     },
     "execution_count": 26,
     "metadata": {},
     "output_type": "execute_result"
    }
   ],
   "source": [
    "melatonin_means = melatonin_df[['hours_sleep', 'awake_pct', 'rem_pct', 'core_pct', 'deep_pct']].mean()\n",
    "melatonin_means"
   ]
  },
  {
   "attachments": {},
   "cell_type": "markdown",
   "metadata": {},
   "source": [
    "Next up: Neuriva."
   ]
  },
  {
   "cell_type": "code",
   "execution_count": 27,
   "metadata": {},
   "outputs": [
    {
     "data": {
      "text/html": [
       "<div>\n",
       "<style scoped>\n",
       "    .dataframe tbody tr th:only-of-type {\n",
       "        vertical-align: middle;\n",
       "    }\n",
       "\n",
       "    .dataframe tbody tr th {\n",
       "        vertical-align: top;\n",
       "    }\n",
       "\n",
       "    .dataframe thead th {\n",
       "        text-align: right;\n",
       "    }\n",
       "</style>\n",
       "<table border=\"1\" class=\"dataframe\">\n",
       "  <thead>\n",
       "    <tr style=\"text-align: right;\">\n",
       "      <th></th>\n",
       "      <th>sleep_date</th>\n",
       "      <th>day_of_the_week</th>\n",
       "      <th>hours_sleep</th>\n",
       "      <th>awake_pct</th>\n",
       "      <th>rem_pct</th>\n",
       "      <th>core_pct</th>\n",
       "      <th>deep_pct</th>\n",
       "      <th>hr_bpm_min</th>\n",
       "      <th>hr_bpm_max</th>\n",
       "      <th>resp_rate_min</th>\n",
       "      <th>resp_rate_max</th>\n",
       "      <th>melatonin</th>\n",
       "      <th>magnesium</th>\n",
       "      <th>neuriva</th>\n",
       "      <th>chamomile</th>\n",
       "      <th>bath</th>\n",
       "      <th>shower</th>\n",
       "      <th>meditation</th>\n",
       "    </tr>\n",
       "  </thead>\n",
       "  <tbody>\n",
       "    <tr>\n",
       "      <th>12</th>\n",
       "      <td>2023-02-19</td>\n",
       "      <td>Sunday</td>\n",
       "      <td>6.57</td>\n",
       "      <td>2.0</td>\n",
       "      <td>24.0</td>\n",
       "      <td>67.0</td>\n",
       "      <td>7.0</td>\n",
       "      <td>56.0</td>\n",
       "      <td>71.0</td>\n",
       "      <td>9.0</td>\n",
       "      <td>13.0</td>\n",
       "      <td>False</td>\n",
       "      <td>True</td>\n",
       "      <td>True</td>\n",
       "      <td>True</td>\n",
       "      <td>False</td>\n",
       "      <td>False</td>\n",
       "      <td>True</td>\n",
       "    </tr>\n",
       "    <tr>\n",
       "      <th>13</th>\n",
       "      <td>2023-02-20</td>\n",
       "      <td>Monday</td>\n",
       "      <td>5.73</td>\n",
       "      <td>8.0</td>\n",
       "      <td>12.0</td>\n",
       "      <td>70.0</td>\n",
       "      <td>10.0</td>\n",
       "      <td>52.0</td>\n",
       "      <td>69.0</td>\n",
       "      <td>8.5</td>\n",
       "      <td>20.0</td>\n",
       "      <td>False</td>\n",
       "      <td>True</td>\n",
       "      <td>True</td>\n",
       "      <td>False</td>\n",
       "      <td>False</td>\n",
       "      <td>False</td>\n",
       "      <td>True</td>\n",
       "    </tr>\n",
       "    <tr>\n",
       "      <th>14</th>\n",
       "      <td>2023-02-21</td>\n",
       "      <td>Tuesday</td>\n",
       "      <td>6.87</td>\n",
       "      <td>2.0</td>\n",
       "      <td>16.0</td>\n",
       "      <td>73.0</td>\n",
       "      <td>9.0</td>\n",
       "      <td>63.0</td>\n",
       "      <td>75.0</td>\n",
       "      <td>9.0</td>\n",
       "      <td>12.5</td>\n",
       "      <td>False</td>\n",
       "      <td>True</td>\n",
       "      <td>True</td>\n",
       "      <td>True</td>\n",
       "      <td>True</td>\n",
       "      <td>False</td>\n",
       "      <td>True</td>\n",
       "    </tr>\n",
       "    <tr>\n",
       "      <th>15</th>\n",
       "      <td>2023-02-22</td>\n",
       "      <td>Wednesday</td>\n",
       "      <td>6.48</td>\n",
       "      <td>2.0</td>\n",
       "      <td>17.0</td>\n",
       "      <td>74.0</td>\n",
       "      <td>7.0</td>\n",
       "      <td>59.0</td>\n",
       "      <td>73.0</td>\n",
       "      <td>8.5</td>\n",
       "      <td>13.0</td>\n",
       "      <td>False</td>\n",
       "      <td>True</td>\n",
       "      <td>True</td>\n",
       "      <td>False</td>\n",
       "      <td>False</td>\n",
       "      <td>True</td>\n",
       "      <td>True</td>\n",
       "    </tr>\n",
       "    <tr>\n",
       "      <th>17</th>\n",
       "      <td>2023-02-23</td>\n",
       "      <td>Thursday</td>\n",
       "      <td>6.53</td>\n",
       "      <td>4.0</td>\n",
       "      <td>20.0</td>\n",
       "      <td>74.0</td>\n",
       "      <td>2.0</td>\n",
       "      <td>62.0</td>\n",
       "      <td>77.0</td>\n",
       "      <td>9.0</td>\n",
       "      <td>14.5</td>\n",
       "      <td>False</td>\n",
       "      <td>True</td>\n",
       "      <td>True</td>\n",
       "      <td>False</td>\n",
       "      <td>True</td>\n",
       "      <td>False</td>\n",
       "      <td>True</td>\n",
       "    </tr>\n",
       "  </tbody>\n",
       "</table>\n",
       "</div>"
      ],
      "text/plain": [
       "   sleep_date day_of_the_week  hours_sleep  awake_pct  rem_pct  core_pct  \\\n",
       "12 2023-02-19          Sunday         6.57        2.0     24.0      67.0   \n",
       "13 2023-02-20          Monday         5.73        8.0     12.0      70.0   \n",
       "14 2023-02-21         Tuesday         6.87        2.0     16.0      73.0   \n",
       "15 2023-02-22       Wednesday         6.48        2.0     17.0      74.0   \n",
       "17 2023-02-23        Thursday         6.53        4.0     20.0      74.0   \n",
       "\n",
       "    deep_pct  hr_bpm_min  hr_bpm_max  resp_rate_min  resp_rate_max  melatonin  \\\n",
       "12       7.0        56.0        71.0            9.0           13.0      False   \n",
       "13      10.0        52.0        69.0            8.5           20.0      False   \n",
       "14       9.0        63.0        75.0            9.0           12.5      False   \n",
       "15       7.0        59.0        73.0            8.5           13.0      False   \n",
       "17       2.0        62.0        77.0            9.0           14.5      False   \n",
       "\n",
       "    magnesium  neuriva  chamomile   bath  shower  meditation  \n",
       "12       True     True       True  False   False        True  \n",
       "13       True     True      False  False   False        True  \n",
       "14       True     True       True   True   False        True  \n",
       "15       True     True      False  False    True        True  \n",
       "17       True     True      False   True   False        True  "
      ]
     },
     "execution_count": 27,
     "metadata": {},
     "output_type": "execute_result"
    }
   ],
   "source": [
    "neuriva_df = sleep_df[sleep_df['neuriva'] == True]\n",
    "neuriva_df.head()"
   ]
  },
  {
   "cell_type": "code",
   "execution_count": 28,
   "metadata": {},
   "outputs": [
    {
     "name": "stdout",
     "output_type": "stream",
     "text": [
      "11\n"
     ]
    }
   ],
   "source": [
    "print(len(neuriva_df))"
   ]
  },
  {
   "cell_type": "code",
   "execution_count": 29,
   "metadata": {},
   "outputs": [
    {
     "data": {
      "text/plain": [
       "hours_sleep     6.788182\n",
       "awake_pct       3.909091\n",
       "rem_pct        16.545455\n",
       "core_pct       73.454545\n",
       "deep_pct        6.090909\n",
       "dtype: float64"
      ]
     },
     "execution_count": 29,
     "metadata": {},
     "output_type": "execute_result"
    }
   ],
   "source": [
    "neuriva_means = neuriva_df[['hours_sleep', 'awake_pct', 'rem_pct', 'core_pct', 'deep_pct']].mean()\n",
    "neuriva_means"
   ]
  },
  {
   "attachments": {},
   "cell_type": "markdown",
   "metadata": {},
   "source": [
    "Now, chamomile tea. "
   ]
  },
  {
   "cell_type": "code",
   "execution_count": 30,
   "metadata": {},
   "outputs": [
    {
     "data": {
      "text/html": [
       "<div>\n",
       "<style scoped>\n",
       "    .dataframe tbody tr th:only-of-type {\n",
       "        vertical-align: middle;\n",
       "    }\n",
       "\n",
       "    .dataframe tbody tr th {\n",
       "        vertical-align: top;\n",
       "    }\n",
       "\n",
       "    .dataframe thead th {\n",
       "        text-align: right;\n",
       "    }\n",
       "</style>\n",
       "<table border=\"1\" class=\"dataframe\">\n",
       "  <thead>\n",
       "    <tr style=\"text-align: right;\">\n",
       "      <th></th>\n",
       "      <th>sleep_date</th>\n",
       "      <th>day_of_the_week</th>\n",
       "      <th>hours_sleep</th>\n",
       "      <th>awake_pct</th>\n",
       "      <th>rem_pct</th>\n",
       "      <th>core_pct</th>\n",
       "      <th>deep_pct</th>\n",
       "      <th>hr_bpm_min</th>\n",
       "      <th>hr_bpm_max</th>\n",
       "      <th>resp_rate_min</th>\n",
       "      <th>resp_rate_max</th>\n",
       "      <th>melatonin</th>\n",
       "      <th>magnesium</th>\n",
       "      <th>neuriva</th>\n",
       "      <th>chamomile</th>\n",
       "      <th>bath</th>\n",
       "      <th>shower</th>\n",
       "      <th>meditation</th>\n",
       "    </tr>\n",
       "  </thead>\n",
       "  <tbody>\n",
       "    <tr>\n",
       "      <th>5</th>\n",
       "      <td>2023-02-12</td>\n",
       "      <td>Sunday</td>\n",
       "      <td>6.10</td>\n",
       "      <td>4.0</td>\n",
       "      <td>20.0</td>\n",
       "      <td>72.0</td>\n",
       "      <td>4.0</td>\n",
       "      <td>56.0</td>\n",
       "      <td>74.0</td>\n",
       "      <td>9.0</td>\n",
       "      <td>13.5</td>\n",
       "      <td>True</td>\n",
       "      <td>True</td>\n",
       "      <td>False</td>\n",
       "      <td>True</td>\n",
       "      <td>False</td>\n",
       "      <td>False</td>\n",
       "      <td>True</td>\n",
       "    </tr>\n",
       "    <tr>\n",
       "      <th>6</th>\n",
       "      <td>2023-02-13</td>\n",
       "      <td>Monday</td>\n",
       "      <td>9.58</td>\n",
       "      <td>3.0</td>\n",
       "      <td>9.0</td>\n",
       "      <td>84.0</td>\n",
       "      <td>4.0</td>\n",
       "      <td>59.0</td>\n",
       "      <td>70.0</td>\n",
       "      <td>8.5</td>\n",
       "      <td>13.5</td>\n",
       "      <td>True</td>\n",
       "      <td>True</td>\n",
       "      <td>False</td>\n",
       "      <td>True</td>\n",
       "      <td>True</td>\n",
       "      <td>False</td>\n",
       "      <td>True</td>\n",
       "    </tr>\n",
       "    <tr>\n",
       "      <th>12</th>\n",
       "      <td>2023-02-19</td>\n",
       "      <td>Sunday</td>\n",
       "      <td>6.57</td>\n",
       "      <td>2.0</td>\n",
       "      <td>24.0</td>\n",
       "      <td>67.0</td>\n",
       "      <td>7.0</td>\n",
       "      <td>56.0</td>\n",
       "      <td>71.0</td>\n",
       "      <td>9.0</td>\n",
       "      <td>13.0</td>\n",
       "      <td>False</td>\n",
       "      <td>True</td>\n",
       "      <td>True</td>\n",
       "      <td>True</td>\n",
       "      <td>False</td>\n",
       "      <td>False</td>\n",
       "      <td>True</td>\n",
       "    </tr>\n",
       "    <tr>\n",
       "      <th>14</th>\n",
       "      <td>2023-02-21</td>\n",
       "      <td>Tuesday</td>\n",
       "      <td>6.87</td>\n",
       "      <td>2.0</td>\n",
       "      <td>16.0</td>\n",
       "      <td>73.0</td>\n",
       "      <td>9.0</td>\n",
       "      <td>63.0</td>\n",
       "      <td>75.0</td>\n",
       "      <td>9.0</td>\n",
       "      <td>12.5</td>\n",
       "      <td>False</td>\n",
       "      <td>True</td>\n",
       "      <td>True</td>\n",
       "      <td>True</td>\n",
       "      <td>True</td>\n",
       "      <td>False</td>\n",
       "      <td>True</td>\n",
       "    </tr>\n",
       "    <tr>\n",
       "      <th>30</th>\n",
       "      <td>2023-03-10</td>\n",
       "      <td>Friday</td>\n",
       "      <td>6.95</td>\n",
       "      <td>4.0</td>\n",
       "      <td>21.0</td>\n",
       "      <td>69.0</td>\n",
       "      <td>6.0</td>\n",
       "      <td>61.0</td>\n",
       "      <td>76.0</td>\n",
       "      <td>9.5</td>\n",
       "      <td>17.0</td>\n",
       "      <td>False</td>\n",
       "      <td>True</td>\n",
       "      <td>True</td>\n",
       "      <td>True</td>\n",
       "      <td>False</td>\n",
       "      <td>False</td>\n",
       "      <td>True</td>\n",
       "    </tr>\n",
       "  </tbody>\n",
       "</table>\n",
       "</div>"
      ],
      "text/plain": [
       "   sleep_date day_of_the_week  hours_sleep  awake_pct  rem_pct  core_pct  \\\n",
       "5  2023-02-12          Sunday         6.10        4.0     20.0      72.0   \n",
       "6  2023-02-13          Monday         9.58        3.0      9.0      84.0   \n",
       "12 2023-02-19          Sunday         6.57        2.0     24.0      67.0   \n",
       "14 2023-02-21         Tuesday         6.87        2.0     16.0      73.0   \n",
       "30 2023-03-10          Friday         6.95        4.0     21.0      69.0   \n",
       "\n",
       "    deep_pct  hr_bpm_min  hr_bpm_max  resp_rate_min  resp_rate_max  melatonin  \\\n",
       "5        4.0        56.0        74.0            9.0           13.5       True   \n",
       "6        4.0        59.0        70.0            8.5           13.5       True   \n",
       "12       7.0        56.0        71.0            9.0           13.0      False   \n",
       "14       9.0        63.0        75.0            9.0           12.5      False   \n",
       "30       6.0        61.0        76.0            9.5           17.0      False   \n",
       "\n",
       "    magnesium  neuriva  chamomile   bath  shower  meditation  \n",
       "5        True    False       True  False   False        True  \n",
       "6        True    False       True   True   False        True  \n",
       "12       True     True       True  False   False        True  \n",
       "14       True     True       True   True   False        True  \n",
       "30       True     True       True  False   False        True  "
      ]
     },
     "execution_count": 30,
     "metadata": {},
     "output_type": "execute_result"
    }
   ],
   "source": [
    "cham_df = sleep_df[sleep_df['chamomile'] == True]\n",
    "cham_df.head()"
   ]
  },
  {
   "cell_type": "code",
   "execution_count": 31,
   "metadata": {},
   "outputs": [
    {
     "name": "stdout",
     "output_type": "stream",
     "text": [
      "5\n"
     ]
    }
   ],
   "source": [
    "print(len(cham_df))"
   ]
  },
  {
   "cell_type": "code",
   "execution_count": 32,
   "metadata": {},
   "outputs": [
    {
     "data": {
      "text/plain": [
       "hours_sleep     7.214\n",
       "awake_pct       3.000\n",
       "rem_pct        18.000\n",
       "core_pct       73.000\n",
       "deep_pct        6.000\n",
       "dtype: float64"
      ]
     },
     "execution_count": 32,
     "metadata": {},
     "output_type": "execute_result"
    }
   ],
   "source": [
    "cham_means = cham_df[['hours_sleep', 'awake_pct', 'rem_pct', 'core_pct', 'deep_pct']].mean()\n",
    "cham_means"
   ]
  },
  {
   "attachments": {},
   "cell_type": "markdown",
   "metadata": {},
   "source": [
    "Let's look at our sleep behaviors next. "
   ]
  },
  {
   "cell_type": "code",
   "execution_count": 33,
   "metadata": {},
   "outputs": [
    {
     "data": {
      "text/html": [
       "<div>\n",
       "<style scoped>\n",
       "    .dataframe tbody tr th:only-of-type {\n",
       "        vertical-align: middle;\n",
       "    }\n",
       "\n",
       "    .dataframe tbody tr th {\n",
       "        vertical-align: top;\n",
       "    }\n",
       "\n",
       "    .dataframe thead th {\n",
       "        text-align: right;\n",
       "    }\n",
       "</style>\n",
       "<table border=\"1\" class=\"dataframe\">\n",
       "  <thead>\n",
       "    <tr style=\"text-align: right;\">\n",
       "      <th></th>\n",
       "      <th>sleep_date</th>\n",
       "      <th>day_of_the_week</th>\n",
       "      <th>hours_sleep</th>\n",
       "      <th>awake_pct</th>\n",
       "      <th>rem_pct</th>\n",
       "      <th>core_pct</th>\n",
       "      <th>deep_pct</th>\n",
       "      <th>hr_bpm_min</th>\n",
       "      <th>hr_bpm_max</th>\n",
       "      <th>resp_rate_min</th>\n",
       "      <th>resp_rate_max</th>\n",
       "      <th>melatonin</th>\n",
       "      <th>magnesium</th>\n",
       "      <th>neuriva</th>\n",
       "      <th>chamomile</th>\n",
       "      <th>bath</th>\n",
       "      <th>shower</th>\n",
       "      <th>meditation</th>\n",
       "    </tr>\n",
       "  </thead>\n",
       "  <tbody>\n",
       "    <tr>\n",
       "      <th>0</th>\n",
       "      <td>2023-02-07</td>\n",
       "      <td>Tuesday</td>\n",
       "      <td>7.30</td>\n",
       "      <td>3.0</td>\n",
       "      <td>12.0</td>\n",
       "      <td>80.0</td>\n",
       "      <td>5.0</td>\n",
       "      <td>61.0</td>\n",
       "      <td>69.0</td>\n",
       "      <td>8.0</td>\n",
       "      <td>12.5</td>\n",
       "      <td>False</td>\n",
       "      <td>True</td>\n",
       "      <td>False</td>\n",
       "      <td>False</td>\n",
       "      <td>True</td>\n",
       "      <td>False</td>\n",
       "      <td>True</td>\n",
       "    </tr>\n",
       "    <tr>\n",
       "      <th>2</th>\n",
       "      <td>2023-02-09</td>\n",
       "      <td>Thursday</td>\n",
       "      <td>6.68</td>\n",
       "      <td>4.0</td>\n",
       "      <td>11.0</td>\n",
       "      <td>79.0</td>\n",
       "      <td>6.0</td>\n",
       "      <td>61.0</td>\n",
       "      <td>73.0</td>\n",
       "      <td>8.5</td>\n",
       "      <td>12.5</td>\n",
       "      <td>True</td>\n",
       "      <td>True</td>\n",
       "      <td>False</td>\n",
       "      <td>False</td>\n",
       "      <td>True</td>\n",
       "      <td>False</td>\n",
       "      <td>False</td>\n",
       "    </tr>\n",
       "    <tr>\n",
       "      <th>6</th>\n",
       "      <td>2023-02-13</td>\n",
       "      <td>Monday</td>\n",
       "      <td>9.58</td>\n",
       "      <td>3.0</td>\n",
       "      <td>9.0</td>\n",
       "      <td>84.0</td>\n",
       "      <td>4.0</td>\n",
       "      <td>59.0</td>\n",
       "      <td>70.0</td>\n",
       "      <td>8.5</td>\n",
       "      <td>13.5</td>\n",
       "      <td>True</td>\n",
       "      <td>True</td>\n",
       "      <td>False</td>\n",
       "      <td>True</td>\n",
       "      <td>True</td>\n",
       "      <td>False</td>\n",
       "      <td>True</td>\n",
       "    </tr>\n",
       "    <tr>\n",
       "      <th>9</th>\n",
       "      <td>2023-02-16</td>\n",
       "      <td>Thursday</td>\n",
       "      <td>6.93</td>\n",
       "      <td>1.0</td>\n",
       "      <td>19.0</td>\n",
       "      <td>73.0</td>\n",
       "      <td>7.0</td>\n",
       "      <td>59.0</td>\n",
       "      <td>70.0</td>\n",
       "      <td>8.5</td>\n",
       "      <td>14.0</td>\n",
       "      <td>True</td>\n",
       "      <td>True</td>\n",
       "      <td>False</td>\n",
       "      <td>False</td>\n",
       "      <td>True</td>\n",
       "      <td>False</td>\n",
       "      <td>True</td>\n",
       "    </tr>\n",
       "    <tr>\n",
       "      <th>14</th>\n",
       "      <td>2023-02-21</td>\n",
       "      <td>Tuesday</td>\n",
       "      <td>6.87</td>\n",
       "      <td>2.0</td>\n",
       "      <td>16.0</td>\n",
       "      <td>73.0</td>\n",
       "      <td>9.0</td>\n",
       "      <td>63.0</td>\n",
       "      <td>75.0</td>\n",
       "      <td>9.0</td>\n",
       "      <td>12.5</td>\n",
       "      <td>False</td>\n",
       "      <td>True</td>\n",
       "      <td>True</td>\n",
       "      <td>True</td>\n",
       "      <td>True</td>\n",
       "      <td>False</td>\n",
       "      <td>True</td>\n",
       "    </tr>\n",
       "  </tbody>\n",
       "</table>\n",
       "</div>"
      ],
      "text/plain": [
       "   sleep_date day_of_the_week  hours_sleep  awake_pct  rem_pct  core_pct  \\\n",
       "0  2023-02-07         Tuesday         7.30        3.0     12.0      80.0   \n",
       "2  2023-02-09        Thursday         6.68        4.0     11.0      79.0   \n",
       "6  2023-02-13          Monday         9.58        3.0      9.0      84.0   \n",
       "9  2023-02-16        Thursday         6.93        1.0     19.0      73.0   \n",
       "14 2023-02-21         Tuesday         6.87        2.0     16.0      73.0   \n",
       "\n",
       "    deep_pct  hr_bpm_min  hr_bpm_max  resp_rate_min  resp_rate_max  melatonin  \\\n",
       "0        5.0        61.0        69.0            8.0           12.5      False   \n",
       "2        6.0        61.0        73.0            8.5           12.5       True   \n",
       "6        4.0        59.0        70.0            8.5           13.5       True   \n",
       "9        7.0        59.0        70.0            8.5           14.0       True   \n",
       "14       9.0        63.0        75.0            9.0           12.5      False   \n",
       "\n",
       "    magnesium  neuriva  chamomile  bath  shower  meditation  \n",
       "0        True    False      False  True   False        True  \n",
       "2        True    False      False  True   False       False  \n",
       "6        True    False       True  True   False        True  \n",
       "9        True    False      False  True   False        True  \n",
       "14       True     True       True  True   False        True  "
      ]
     },
     "execution_count": 33,
     "metadata": {},
     "output_type": "execute_result"
    }
   ],
   "source": [
    "bath_df = sleep_df[sleep_df['bath'] == True]\n",
    "bath_df.head()"
   ]
  },
  {
   "cell_type": "code",
   "execution_count": 34,
   "metadata": {},
   "outputs": [
    {
     "name": "stdout",
     "output_type": "stream",
     "text": [
      "9\n"
     ]
    }
   ],
   "source": [
    "print(len(bath_df))"
   ]
  },
  {
   "cell_type": "code",
   "execution_count": 35,
   "metadata": {},
   "outputs": [
    {
     "data": {
      "text/plain": [
       "hours_sleep     7.143333\n",
       "awake_pct       2.888889\n",
       "rem_pct        14.777778\n",
       "core_pct       76.777778\n",
       "deep_pct        5.555556\n",
       "dtype: float64"
      ]
     },
     "execution_count": 35,
     "metadata": {},
     "output_type": "execute_result"
    }
   ],
   "source": [
    "bath_means = bath_df[['hours_sleep', 'awake_pct', 'rem_pct', 'core_pct', 'deep_pct']].mean()\n",
    "bath_means"
   ]
  },
  {
   "cell_type": "code",
   "execution_count": 36,
   "metadata": {},
   "outputs": [
    {
     "data": {
      "text/html": [
       "<div>\n",
       "<style scoped>\n",
       "    .dataframe tbody tr th:only-of-type {\n",
       "        vertical-align: middle;\n",
       "    }\n",
       "\n",
       "    .dataframe tbody tr th {\n",
       "        vertical-align: top;\n",
       "    }\n",
       "\n",
       "    .dataframe thead th {\n",
       "        text-align: right;\n",
       "    }\n",
       "</style>\n",
       "<table border=\"1\" class=\"dataframe\">\n",
       "  <thead>\n",
       "    <tr style=\"text-align: right;\">\n",
       "      <th></th>\n",
       "      <th>sleep_date</th>\n",
       "      <th>day_of_the_week</th>\n",
       "      <th>hours_sleep</th>\n",
       "      <th>awake_pct</th>\n",
       "      <th>rem_pct</th>\n",
       "      <th>core_pct</th>\n",
       "      <th>deep_pct</th>\n",
       "      <th>hr_bpm_min</th>\n",
       "      <th>hr_bpm_max</th>\n",
       "      <th>resp_rate_min</th>\n",
       "      <th>resp_rate_max</th>\n",
       "      <th>melatonin</th>\n",
       "      <th>magnesium</th>\n",
       "      <th>neuriva</th>\n",
       "      <th>chamomile</th>\n",
       "      <th>bath</th>\n",
       "      <th>shower</th>\n",
       "      <th>meditation</th>\n",
       "    </tr>\n",
       "  </thead>\n",
       "  <tbody>\n",
       "    <tr>\n",
       "      <th>0</th>\n",
       "      <td>2023-02-07</td>\n",
       "      <td>Tuesday</td>\n",
       "      <td>7.30</td>\n",
       "      <td>3.0</td>\n",
       "      <td>12.0</td>\n",
       "      <td>80.0</td>\n",
       "      <td>5.0</td>\n",
       "      <td>61.0</td>\n",
       "      <td>69.0</td>\n",
       "      <td>8.0</td>\n",
       "      <td>12.5</td>\n",
       "      <td>False</td>\n",
       "      <td>True</td>\n",
       "      <td>False</td>\n",
       "      <td>False</td>\n",
       "      <td>True</td>\n",
       "      <td>False</td>\n",
       "      <td>True</td>\n",
       "    </tr>\n",
       "    <tr>\n",
       "      <th>1</th>\n",
       "      <td>2023-02-08</td>\n",
       "      <td>Wednesday</td>\n",
       "      <td>6.83</td>\n",
       "      <td>5.0</td>\n",
       "      <td>22.0</td>\n",
       "      <td>67.0</td>\n",
       "      <td>6.0</td>\n",
       "      <td>62.0</td>\n",
       "      <td>78.0</td>\n",
       "      <td>8.0</td>\n",
       "      <td>12.5</td>\n",
       "      <td>True</td>\n",
       "      <td>True</td>\n",
       "      <td>False</td>\n",
       "      <td>False</td>\n",
       "      <td>False</td>\n",
       "      <td>False</td>\n",
       "      <td>True</td>\n",
       "    </tr>\n",
       "    <tr>\n",
       "      <th>3</th>\n",
       "      <td>2023-02-10</td>\n",
       "      <td>Friday</td>\n",
       "      <td>7.50</td>\n",
       "      <td>4.0</td>\n",
       "      <td>14.0</td>\n",
       "      <td>78.0</td>\n",
       "      <td>4.0</td>\n",
       "      <td>59.0</td>\n",
       "      <td>70.0</td>\n",
       "      <td>9.0</td>\n",
       "      <td>14.0</td>\n",
       "      <td>False</td>\n",
       "      <td>True</td>\n",
       "      <td>False</td>\n",
       "      <td>False</td>\n",
       "      <td>False</td>\n",
       "      <td>False</td>\n",
       "      <td>True</td>\n",
       "    </tr>\n",
       "    <tr>\n",
       "      <th>5</th>\n",
       "      <td>2023-02-12</td>\n",
       "      <td>Sunday</td>\n",
       "      <td>6.10</td>\n",
       "      <td>4.0</td>\n",
       "      <td>20.0</td>\n",
       "      <td>72.0</td>\n",
       "      <td>4.0</td>\n",
       "      <td>56.0</td>\n",
       "      <td>74.0</td>\n",
       "      <td>9.0</td>\n",
       "      <td>13.5</td>\n",
       "      <td>True</td>\n",
       "      <td>True</td>\n",
       "      <td>False</td>\n",
       "      <td>True</td>\n",
       "      <td>False</td>\n",
       "      <td>False</td>\n",
       "      <td>True</td>\n",
       "    </tr>\n",
       "    <tr>\n",
       "      <th>6</th>\n",
       "      <td>2023-02-13</td>\n",
       "      <td>Monday</td>\n",
       "      <td>9.58</td>\n",
       "      <td>3.0</td>\n",
       "      <td>9.0</td>\n",
       "      <td>84.0</td>\n",
       "      <td>4.0</td>\n",
       "      <td>59.0</td>\n",
       "      <td>70.0</td>\n",
       "      <td>8.5</td>\n",
       "      <td>13.5</td>\n",
       "      <td>True</td>\n",
       "      <td>True</td>\n",
       "      <td>False</td>\n",
       "      <td>True</td>\n",
       "      <td>True</td>\n",
       "      <td>False</td>\n",
       "      <td>True</td>\n",
       "    </tr>\n",
       "  </tbody>\n",
       "</table>\n",
       "</div>"
      ],
      "text/plain": [
       "  sleep_date day_of_the_week  hours_sleep  awake_pct  rem_pct  core_pct  \\\n",
       "0 2023-02-07         Tuesday         7.30        3.0     12.0      80.0   \n",
       "1 2023-02-08       Wednesday         6.83        5.0     22.0      67.0   \n",
       "3 2023-02-10          Friday         7.50        4.0     14.0      78.0   \n",
       "5 2023-02-12          Sunday         6.10        4.0     20.0      72.0   \n",
       "6 2023-02-13          Monday         9.58        3.0      9.0      84.0   \n",
       "\n",
       "   deep_pct  hr_bpm_min  hr_bpm_max  resp_rate_min  resp_rate_max  melatonin  \\\n",
       "0       5.0        61.0        69.0            8.0           12.5      False   \n",
       "1       6.0        62.0        78.0            8.0           12.5       True   \n",
       "3       4.0        59.0        70.0            9.0           14.0      False   \n",
       "5       4.0        56.0        74.0            9.0           13.5       True   \n",
       "6       4.0        59.0        70.0            8.5           13.5       True   \n",
       "\n",
       "   magnesium  neuriva  chamomile   bath  shower  meditation  \n",
       "0       True    False      False   True   False        True  \n",
       "1       True    False      False  False   False        True  \n",
       "3       True    False      False  False   False        True  \n",
       "5       True    False       True  False   False        True  \n",
       "6       True    False       True   True   False        True  "
      ]
     },
     "execution_count": 36,
     "metadata": {},
     "output_type": "execute_result"
    }
   ],
   "source": [
    "meditation_df = sleep_df[sleep_df['meditation'] == True]\n",
    "meditation_df.head()"
   ]
  },
  {
   "cell_type": "code",
   "execution_count": 37,
   "metadata": {},
   "outputs": [
    {
     "name": "stdout",
     "output_type": "stream",
     "text": [
      "23\n"
     ]
    }
   ],
   "source": [
    "print(len(meditation_df))"
   ]
  },
  {
   "cell_type": "code",
   "execution_count": 38,
   "metadata": {},
   "outputs": [
    {
     "data": {
      "text/plain": [
       "hours_sleep     6.871739\n",
       "awake_pct       3.391304\n",
       "rem_pct        15.478261\n",
       "core_pct       75.521739\n",
       "deep_pct        5.608696\n",
       "dtype: float64"
      ]
     },
     "execution_count": 38,
     "metadata": {},
     "output_type": "execute_result"
    }
   ],
   "source": [
    "meditation_means = meditation_df[['hours_sleep', 'awake_pct', 'rem_pct', 'core_pct', 'deep_pct']].mean()\n",
    "meditation_means"
   ]
  },
  {
   "attachments": {},
   "cell_type": "markdown",
   "metadata": {},
   "source": [
    "Since there were so few \"shower\" entries, let's combine the positive responses for \"bath\" and \"shower\" in case we think down the road that something about warm water itself before bed is a factor in good sleep, and not the mechanism the water is delivered in and of itself. We can call \"bs\" on these new variables and subsets."
   ]
  },
  {
   "attachments": {},
   "cell_type": "markdown",
   "metadata": {},
   "source": [
    "See what sleep deprivation does?"
   ]
  },
  {
   "cell_type": "code",
   "execution_count": 39,
   "metadata": {},
   "outputs": [
    {
     "data": {
      "text/html": [
       "<div>\n",
       "<style scoped>\n",
       "    .dataframe tbody tr th:only-of-type {\n",
       "        vertical-align: middle;\n",
       "    }\n",
       "\n",
       "    .dataframe tbody tr th {\n",
       "        vertical-align: top;\n",
       "    }\n",
       "\n",
       "    .dataframe thead th {\n",
       "        text-align: right;\n",
       "    }\n",
       "</style>\n",
       "<table border=\"1\" class=\"dataframe\">\n",
       "  <thead>\n",
       "    <tr style=\"text-align: right;\">\n",
       "      <th></th>\n",
       "      <th>sleep_date</th>\n",
       "      <th>day_of_the_week</th>\n",
       "      <th>hours_sleep</th>\n",
       "      <th>awake_pct</th>\n",
       "      <th>rem_pct</th>\n",
       "      <th>core_pct</th>\n",
       "      <th>deep_pct</th>\n",
       "      <th>hr_bpm_min</th>\n",
       "      <th>hr_bpm_max</th>\n",
       "      <th>resp_rate_min</th>\n",
       "      <th>resp_rate_max</th>\n",
       "      <th>melatonin</th>\n",
       "      <th>magnesium</th>\n",
       "      <th>neuriva</th>\n",
       "      <th>chamomile</th>\n",
       "      <th>bath</th>\n",
       "      <th>shower</th>\n",
       "      <th>meditation</th>\n",
       "    </tr>\n",
       "  </thead>\n",
       "  <tbody>\n",
       "    <tr>\n",
       "      <th>0</th>\n",
       "      <td>2023-02-07</td>\n",
       "      <td>Tuesday</td>\n",
       "      <td>7.30</td>\n",
       "      <td>3.0</td>\n",
       "      <td>12.0</td>\n",
       "      <td>80.0</td>\n",
       "      <td>5.0</td>\n",
       "      <td>61.0</td>\n",
       "      <td>69.0</td>\n",
       "      <td>8.0</td>\n",
       "      <td>12.5</td>\n",
       "      <td>False</td>\n",
       "      <td>True</td>\n",
       "      <td>False</td>\n",
       "      <td>False</td>\n",
       "      <td>True</td>\n",
       "      <td>False</td>\n",
       "      <td>True</td>\n",
       "    </tr>\n",
       "    <tr>\n",
       "      <th>2</th>\n",
       "      <td>2023-02-09</td>\n",
       "      <td>Thursday</td>\n",
       "      <td>6.68</td>\n",
       "      <td>4.0</td>\n",
       "      <td>11.0</td>\n",
       "      <td>79.0</td>\n",
       "      <td>6.0</td>\n",
       "      <td>61.0</td>\n",
       "      <td>73.0</td>\n",
       "      <td>8.5</td>\n",
       "      <td>12.5</td>\n",
       "      <td>True</td>\n",
       "      <td>True</td>\n",
       "      <td>False</td>\n",
       "      <td>False</td>\n",
       "      <td>True</td>\n",
       "      <td>False</td>\n",
       "      <td>False</td>\n",
       "    </tr>\n",
       "    <tr>\n",
       "      <th>6</th>\n",
       "      <td>2023-02-13</td>\n",
       "      <td>Monday</td>\n",
       "      <td>9.58</td>\n",
       "      <td>3.0</td>\n",
       "      <td>9.0</td>\n",
       "      <td>84.0</td>\n",
       "      <td>4.0</td>\n",
       "      <td>59.0</td>\n",
       "      <td>70.0</td>\n",
       "      <td>8.5</td>\n",
       "      <td>13.5</td>\n",
       "      <td>True</td>\n",
       "      <td>True</td>\n",
       "      <td>False</td>\n",
       "      <td>True</td>\n",
       "      <td>True</td>\n",
       "      <td>False</td>\n",
       "      <td>True</td>\n",
       "    </tr>\n",
       "    <tr>\n",
       "      <th>9</th>\n",
       "      <td>2023-02-16</td>\n",
       "      <td>Thursday</td>\n",
       "      <td>6.93</td>\n",
       "      <td>1.0</td>\n",
       "      <td>19.0</td>\n",
       "      <td>73.0</td>\n",
       "      <td>7.0</td>\n",
       "      <td>59.0</td>\n",
       "      <td>70.0</td>\n",
       "      <td>8.5</td>\n",
       "      <td>14.0</td>\n",
       "      <td>True</td>\n",
       "      <td>True</td>\n",
       "      <td>False</td>\n",
       "      <td>False</td>\n",
       "      <td>True</td>\n",
       "      <td>False</td>\n",
       "      <td>True</td>\n",
       "    </tr>\n",
       "    <tr>\n",
       "      <th>14</th>\n",
       "      <td>2023-02-21</td>\n",
       "      <td>Tuesday</td>\n",
       "      <td>6.87</td>\n",
       "      <td>2.0</td>\n",
       "      <td>16.0</td>\n",
       "      <td>73.0</td>\n",
       "      <td>9.0</td>\n",
       "      <td>63.0</td>\n",
       "      <td>75.0</td>\n",
       "      <td>9.0</td>\n",
       "      <td>12.5</td>\n",
       "      <td>False</td>\n",
       "      <td>True</td>\n",
       "      <td>True</td>\n",
       "      <td>True</td>\n",
       "      <td>True</td>\n",
       "      <td>False</td>\n",
       "      <td>True</td>\n",
       "    </tr>\n",
       "  </tbody>\n",
       "</table>\n",
       "</div>"
      ],
      "text/plain": [
       "   sleep_date day_of_the_week  hours_sleep  awake_pct  rem_pct  core_pct  \\\n",
       "0  2023-02-07         Tuesday         7.30        3.0     12.0      80.0   \n",
       "2  2023-02-09        Thursday         6.68        4.0     11.0      79.0   \n",
       "6  2023-02-13          Monday         9.58        3.0      9.0      84.0   \n",
       "9  2023-02-16        Thursday         6.93        1.0     19.0      73.0   \n",
       "14 2023-02-21         Tuesday         6.87        2.0     16.0      73.0   \n",
       "\n",
       "    deep_pct  hr_bpm_min  hr_bpm_max  resp_rate_min  resp_rate_max  melatonin  \\\n",
       "0        5.0        61.0        69.0            8.0           12.5      False   \n",
       "2        6.0        61.0        73.0            8.5           12.5       True   \n",
       "6        4.0        59.0        70.0            8.5           13.5       True   \n",
       "9        7.0        59.0        70.0            8.5           14.0       True   \n",
       "14       9.0        63.0        75.0            9.0           12.5      False   \n",
       "\n",
       "    magnesium  neuriva  chamomile  bath  shower  meditation  \n",
       "0        True    False      False  True   False        True  \n",
       "2        True    False      False  True   False       False  \n",
       "6        True    False       True  True   False        True  \n",
       "9        True    False      False  True   False        True  \n",
       "14       True     True       True  True   False        True  "
      ]
     },
     "execution_count": 39,
     "metadata": {},
     "output_type": "execute_result"
    }
   ],
   "source": [
    "bs_df = sleep_df[(sleep_df.bath == True) | (sleep_df.shower == True)]\n",
    "bs_df.head()"
   ]
  },
  {
   "cell_type": "code",
   "execution_count": 40,
   "metadata": {},
   "outputs": [
    {
     "name": "stdout",
     "output_type": "stream",
     "text": [
      "11\n"
     ]
    }
   ],
   "source": [
    "print(len(bs_df))"
   ]
  },
  {
   "cell_type": "code",
   "execution_count": 41,
   "metadata": {},
   "outputs": [
    {
     "data": {
      "text/plain": [
       "hours_sleep     7.015455\n",
       "awake_pct       2.818182\n",
       "rem_pct        14.727273\n",
       "core_pct       76.909091\n",
       "deep_pct        5.545455\n",
       "dtype: float64"
      ]
     },
     "execution_count": 41,
     "metadata": {},
     "output_type": "execute_result"
    }
   ],
   "source": [
    "bs_means = bs_df[['hours_sleep', 'awake_pct', 'rem_pct', 'core_pct', 'deep_pct']].mean()\n",
    "bs_means"
   ]
  },
  {
   "attachments": {},
   "cell_type": "markdown",
   "metadata": {},
   "source": [
    "### Combining All the Means Into a New DataFrame "
   ]
  },
  {
   "attachments": {},
   "cell_type": "markdown",
   "metadata": {},
   "source": [
    "The new variables we have created to calculate the means for hours_sleep, awake_pct, rem_pct, core_pct, and deep_pct for each of the different DataFrame variables tied to supplements and behaviors are actually pandas Series. These can be brought together into one new DataFrame for easier comparison of values to allow us to see which supplements and behaviors produce the highest amounts of REM and deep sleep. The sleep_means we first calculated across the entire DataFrame for all nights of sleep recorded can act as a sort of control to see what produces higher-than-total-average sleep values in the desired fields. \n",
    "\n",
    "Once we've brought these together, let's also round all values in this new DataFrame to two decimal places; this will be consistent with the original data collection. "
   ]
  },
  {
   "cell_type": "code",
   "execution_count": 42,
   "metadata": {},
   "outputs": [
    {
     "data": {
      "text/html": [
       "<div>\n",
       "<style scoped>\n",
       "    .dataframe tbody tr th:only-of-type {\n",
       "        vertical-align: middle;\n",
       "    }\n",
       "\n",
       "    .dataframe tbody tr th {\n",
       "        vertical-align: top;\n",
       "    }\n",
       "\n",
       "    .dataframe thead th {\n",
       "        text-align: right;\n",
       "    }\n",
       "</style>\n",
       "<table border=\"1\" class=\"dataframe\">\n",
       "  <thead>\n",
       "    <tr style=\"text-align: right;\">\n",
       "      <th></th>\n",
       "      <th>0</th>\n",
       "      <th>1</th>\n",
       "      <th>2</th>\n",
       "      <th>3</th>\n",
       "      <th>4</th>\n",
       "      <th>5</th>\n",
       "      <th>6</th>\n",
       "    </tr>\n",
       "  </thead>\n",
       "  <tbody>\n",
       "    <tr>\n",
       "      <th>hours_sleep</th>\n",
       "      <td>6.88</td>\n",
       "      <td>6.97</td>\n",
       "      <td>6.79</td>\n",
       "      <td>7.21</td>\n",
       "      <td>7.14</td>\n",
       "      <td>6.87</td>\n",
       "      <td>7.02</td>\n",
       "    </tr>\n",
       "    <tr>\n",
       "      <th>awake_pct</th>\n",
       "      <td>3.83</td>\n",
       "      <td>4.36</td>\n",
       "      <td>3.91</td>\n",
       "      <td>3.00</td>\n",
       "      <td>2.89</td>\n",
       "      <td>3.39</td>\n",
       "      <td>2.82</td>\n",
       "    </tr>\n",
       "    <tr>\n",
       "      <th>rem_pct</th>\n",
       "      <td>15.38</td>\n",
       "      <td>14.00</td>\n",
       "      <td>16.55</td>\n",
       "      <td>18.00</td>\n",
       "      <td>14.78</td>\n",
       "      <td>15.48</td>\n",
       "      <td>14.73</td>\n",
       "    </tr>\n",
       "    <tr>\n",
       "      <th>core_pct</th>\n",
       "      <td>75.24</td>\n",
       "      <td>76.73</td>\n",
       "      <td>73.45</td>\n",
       "      <td>73.00</td>\n",
       "      <td>76.78</td>\n",
       "      <td>75.52</td>\n",
       "      <td>76.91</td>\n",
       "    </tr>\n",
       "    <tr>\n",
       "      <th>deep_pct</th>\n",
       "      <td>5.55</td>\n",
       "      <td>4.91</td>\n",
       "      <td>6.09</td>\n",
       "      <td>6.00</td>\n",
       "      <td>5.56</td>\n",
       "      <td>5.61</td>\n",
       "      <td>5.55</td>\n",
       "    </tr>\n",
       "  </tbody>\n",
       "</table>\n",
       "</div>"
      ],
      "text/plain": [
       "                 0      1      2      3      4      5      6\n",
       "hours_sleep   6.88   6.97   6.79   7.21   7.14   6.87   7.02\n",
       "awake_pct     3.83   4.36   3.91   3.00   2.89   3.39   2.82\n",
       "rem_pct      15.38  14.00  16.55  18.00  14.78  15.48  14.73\n",
       "core_pct     75.24  76.73  73.45  73.00  76.78  75.52  76.91\n",
       "deep_pct      5.55   4.91   6.09   6.00   5.56   5.61   5.55"
      ]
     },
     "execution_count": 42,
     "metadata": {},
     "output_type": "execute_result"
    }
   ],
   "source": [
    "mean_df = pd.concat([sleep_means, melatonin_means, neuriva_means, cham_means, bath_means, meditation_means, bs_means],\n",
    "                    axis=1)\n",
    "mean_df = mean_df.round(decimals = 2)\n",
    "mean_df"
   ]
  },
  {
   "attachments": {},
   "cell_type": "markdown",
   "metadata": {},
   "source": [
    "Great! Let's name those columns to match the supplement/sleep hygeine behavior. With an eye for future plotting, let's capitalize 'Neuriva' going forward since that's the brand name of a specific combination supplement."
   ]
  },
  {
   "cell_type": "code",
   "execution_count": 43,
   "metadata": {},
   "outputs": [
    {
     "data": {
      "text/html": [
       "<div>\n",
       "<style scoped>\n",
       "    .dataframe tbody tr th:only-of-type {\n",
       "        vertical-align: middle;\n",
       "    }\n",
       "\n",
       "    .dataframe tbody tr th {\n",
       "        vertical-align: top;\n",
       "    }\n",
       "\n",
       "    .dataframe thead th {\n",
       "        text-align: right;\n",
       "    }\n",
       "</style>\n",
       "<table border=\"1\" class=\"dataframe\">\n",
       "  <thead>\n",
       "    <tr style=\"text-align: right;\">\n",
       "      <th></th>\n",
       "      <th>all_sleep</th>\n",
       "      <th>melatonin</th>\n",
       "      <th>Neuriva</th>\n",
       "      <th>chamomile</th>\n",
       "      <th>bath</th>\n",
       "      <th>meditation</th>\n",
       "      <th>bath_or_shower</th>\n",
       "    </tr>\n",
       "  </thead>\n",
       "  <tbody>\n",
       "    <tr>\n",
       "      <th>hours_sleep</th>\n",
       "      <td>6.88</td>\n",
       "      <td>6.97</td>\n",
       "      <td>6.79</td>\n",
       "      <td>7.21</td>\n",
       "      <td>7.14</td>\n",
       "      <td>6.87</td>\n",
       "      <td>7.02</td>\n",
       "    </tr>\n",
       "    <tr>\n",
       "      <th>awake_pct</th>\n",
       "      <td>3.83</td>\n",
       "      <td>4.36</td>\n",
       "      <td>3.91</td>\n",
       "      <td>3.00</td>\n",
       "      <td>2.89</td>\n",
       "      <td>3.39</td>\n",
       "      <td>2.82</td>\n",
       "    </tr>\n",
       "    <tr>\n",
       "      <th>rem_pct</th>\n",
       "      <td>15.38</td>\n",
       "      <td>14.00</td>\n",
       "      <td>16.55</td>\n",
       "      <td>18.00</td>\n",
       "      <td>14.78</td>\n",
       "      <td>15.48</td>\n",
       "      <td>14.73</td>\n",
       "    </tr>\n",
       "    <tr>\n",
       "      <th>core_pct</th>\n",
       "      <td>75.24</td>\n",
       "      <td>76.73</td>\n",
       "      <td>73.45</td>\n",
       "      <td>73.00</td>\n",
       "      <td>76.78</td>\n",
       "      <td>75.52</td>\n",
       "      <td>76.91</td>\n",
       "    </tr>\n",
       "    <tr>\n",
       "      <th>deep_pct</th>\n",
       "      <td>5.55</td>\n",
       "      <td>4.91</td>\n",
       "      <td>6.09</td>\n",
       "      <td>6.00</td>\n",
       "      <td>5.56</td>\n",
       "      <td>5.61</td>\n",
       "      <td>5.55</td>\n",
       "    </tr>\n",
       "  </tbody>\n",
       "</table>\n",
       "</div>"
      ],
      "text/plain": [
       "             all_sleep  melatonin  Neuriva  chamomile   bath  meditation  \\\n",
       "hours_sleep       6.88       6.97     6.79       7.21   7.14        6.87   \n",
       "awake_pct         3.83       4.36     3.91       3.00   2.89        3.39   \n",
       "rem_pct          15.38      14.00    16.55      18.00  14.78       15.48   \n",
       "core_pct         75.24      76.73    73.45      73.00  76.78       75.52   \n",
       "deep_pct          5.55       4.91     6.09       6.00   5.56        5.61   \n",
       "\n",
       "             bath_or_shower  \n",
       "hours_sleep            7.02  \n",
       "awake_pct              2.82  \n",
       "rem_pct               14.73  \n",
       "core_pct              76.91  \n",
       "deep_pct               5.55  "
      ]
     },
     "execution_count": 43,
     "metadata": {},
     "output_type": "execute_result"
    }
   ],
   "source": [
    "mean_df.columns = ['all_sleep', 'melatonin', 'Neuriva', 'chamomile', 'bath', 'meditation',\n",
    "                 'bath_or_shower']\n",
    "mean_df"
   ]
  },
  {
   "attachments": {},
   "cell_type": "markdown",
   "metadata": {},
   "source": [
    "A quick bar chart here may help us visually determine some winners and losers for our sleep recipe."
   ]
  },
  {
   "attachments": {},
   "cell_type": "markdown",
   "metadata": {},
   "source": [
    "Let's import Matplotlib and set it to show our output in the cell below each instance of the plotting code."
   ]
  },
  {
   "cell_type": "code",
   "execution_count": 44,
   "metadata": {},
   "outputs": [],
   "source": [
    "import matplotlib as mpl\n",
    "import matplotlib.pyplot as plt\n",
    "%matplotlib inline"
   ]
  },
  {
   "cell_type": "code",
   "execution_count": 45,
   "metadata": {},
   "outputs": [
    {
     "data": {
      "image/png": "[encoded data removed]",
      "text/plain": [
       "<Figure size 640x480 with 1 Axes>"
      ]
     },
     "metadata": {},
     "output_type": "display_data"
    }
   ],
   "source": [
    "mean_df.plot(kind='bar')\n",
    "plt.show()"
   ]
  },
  {
   "attachments": {},
   "cell_type": "markdown",
   "metadata": {},
   "source": [
    "We've now learned the following things from these means:\n",
    "1. The supplement chamomile tea and the behavior of taking a bath before bed are associated with the highest mean of total hours of sleep. \n",
    "2. The supplement chamomile tea and the behavior of taking either a bath or a shower before bed are associated with the lowest mean percentage of time awake.\n",
    "3. The supplement chamomile tea and the behavior of bedtime meditation are associated with the highest mean percentage of REM sleep. \n",
    "4. The supplement Neuriva and the behavior of bedtime meditation are associated with the highest mean percentage of deep sleep. "
   ]
  },
  {
   "attachments": {},
   "cell_type": "markdown",
   "metadata": {},
   "source": [
    "It may help here to pause and visualize some of these results with a little more plotting. Let's focus on the supplements and behaviors most closely associated with higher amounts of REM and deep sleep: chamomile tea, Neuriva, and bedtime meditation. "
   ]
  },
  {
   "attachments": {},
   "cell_type": "markdown",
   "metadata": {},
   "source": [
    "For our next visualization, we don't want the 'hours_sleep' data to be factored in; those are calcuated in hours and not percentages like the rest of the data. We also don't want awake_pct; this could create confusion as the goal for awake_pct is to be low (the less time awake at night, the better) but the goal for the other fields is to be higher. Let's drop those rows. "
   ]
  },
  {
   "cell_type": "code",
   "execution_count": 46,
   "metadata": {},
   "outputs": [
    {
     "data": {
      "text/html": [
       "<div>\n",
       "<style scoped>\n",
       "    .dataframe tbody tr th:only-of-type {\n",
       "        vertical-align: middle;\n",
       "    }\n",
       "\n",
       "    .dataframe tbody tr th {\n",
       "        vertical-align: top;\n",
       "    }\n",
       "\n",
       "    .dataframe thead th {\n",
       "        text-align: right;\n",
       "    }\n",
       "</style>\n",
       "<table border=\"1\" class=\"dataframe\">\n",
       "  <thead>\n",
       "    <tr style=\"text-align: right;\">\n",
       "      <th></th>\n",
       "      <th>all_sleep</th>\n",
       "      <th>melatonin</th>\n",
       "      <th>Neuriva</th>\n",
       "      <th>chamomile</th>\n",
       "      <th>bath</th>\n",
       "      <th>meditation</th>\n",
       "      <th>bath_or_shower</th>\n",
       "    </tr>\n",
       "  </thead>\n",
       "  <tbody>\n",
       "    <tr>\n",
       "      <th>rem_pct</th>\n",
       "      <td>15.38</td>\n",
       "      <td>14.00</td>\n",
       "      <td>16.55</td>\n",
       "      <td>18.0</td>\n",
       "      <td>14.78</td>\n",
       "      <td>15.48</td>\n",
       "      <td>14.73</td>\n",
       "    </tr>\n",
       "    <tr>\n",
       "      <th>core_pct</th>\n",
       "      <td>75.24</td>\n",
       "      <td>76.73</td>\n",
       "      <td>73.45</td>\n",
       "      <td>73.0</td>\n",
       "      <td>76.78</td>\n",
       "      <td>75.52</td>\n",
       "      <td>76.91</td>\n",
       "    </tr>\n",
       "    <tr>\n",
       "      <th>deep_pct</th>\n",
       "      <td>5.55</td>\n",
       "      <td>4.91</td>\n",
       "      <td>6.09</td>\n",
       "      <td>6.0</td>\n",
       "      <td>5.56</td>\n",
       "      <td>5.61</td>\n",
       "      <td>5.55</td>\n",
       "    </tr>\n",
       "  </tbody>\n",
       "</table>\n",
       "</div>"
      ],
      "text/plain": [
       "          all_sleep  melatonin  Neuriva  chamomile   bath  meditation  \\\n",
       "rem_pct       15.38      14.00    16.55       18.0  14.78       15.48   \n",
       "core_pct      75.24      76.73    73.45       73.0  76.78       75.52   \n",
       "deep_pct       5.55       4.91     6.09        6.0   5.56        5.61   \n",
       "\n",
       "          bath_or_shower  \n",
       "rem_pct            14.73  \n",
       "core_pct           76.91  \n",
       "deep_pct            5.55  "
      ]
     },
     "execution_count": 46,
     "metadata": {},
     "output_type": "execute_result"
    }
   ],
   "source": [
    "plotting_mean_df = mean_df.drop(['hours_sleep', 'awake_pct'])\n",
    "plotting_mean_df"
   ]
  },
  {
   "attachments": {},
   "cell_type": "markdown",
   "metadata": {},
   "source": [
    "For our simple plot, Matplotlib will use the indices as the x-axis. We want this to look layman-friendly (this could be shared with my physician at some point, for example) so let's rename the current indices from the more Pythonic labels used in the analysis functions to more understandable labels. "
   ]
  },
  {
   "cell_type": "code",
   "execution_count": 47,
   "metadata": {},
   "outputs": [
    {
     "data": {
      "text/html": [
       "<div>\n",
       "<style scoped>\n",
       "    .dataframe tbody tr th:only-of-type {\n",
       "        vertical-align: middle;\n",
       "    }\n",
       "\n",
       "    .dataframe tbody tr th {\n",
       "        vertical-align: top;\n",
       "    }\n",
       "\n",
       "    .dataframe thead th {\n",
       "        text-align: right;\n",
       "    }\n",
       "</style>\n",
       "<table border=\"1\" class=\"dataframe\">\n",
       "  <thead>\n",
       "    <tr style=\"text-align: right;\">\n",
       "      <th></th>\n",
       "      <th>all_sleep</th>\n",
       "      <th>melatonin</th>\n",
       "      <th>Neuriva</th>\n",
       "      <th>chamomile</th>\n",
       "      <th>bath</th>\n",
       "      <th>meditation</th>\n",
       "      <th>bath_or_shower</th>\n",
       "    </tr>\n",
       "  </thead>\n",
       "  <tbody>\n",
       "    <tr>\n",
       "      <th>REM %</th>\n",
       "      <td>15.38</td>\n",
       "      <td>14.00</td>\n",
       "      <td>16.55</td>\n",
       "      <td>18.0</td>\n",
       "      <td>14.78</td>\n",
       "      <td>15.48</td>\n",
       "      <td>14.73</td>\n",
       "    </tr>\n",
       "    <tr>\n",
       "      <th>Core %</th>\n",
       "      <td>75.24</td>\n",
       "      <td>76.73</td>\n",
       "      <td>73.45</td>\n",
       "      <td>73.0</td>\n",
       "      <td>76.78</td>\n",
       "      <td>75.52</td>\n",
       "      <td>76.91</td>\n",
       "    </tr>\n",
       "    <tr>\n",
       "      <th>Deep %</th>\n",
       "      <td>5.55</td>\n",
       "      <td>4.91</td>\n",
       "      <td>6.09</td>\n",
       "      <td>6.0</td>\n",
       "      <td>5.56</td>\n",
       "      <td>5.61</td>\n",
       "      <td>5.55</td>\n",
       "    </tr>\n",
       "  </tbody>\n",
       "</table>\n",
       "</div>"
      ],
      "text/plain": [
       "        all_sleep  melatonin  Neuriva  chamomile   bath  meditation  \\\n",
       "REM %       15.38      14.00    16.55       18.0  14.78       15.48   \n",
       "Core %      75.24      76.73    73.45       73.0  76.78       75.52   \n",
       "Deep %       5.55       4.91     6.09        6.0   5.56        5.61   \n",
       "\n",
       "        bath_or_shower  \n",
       "REM %            14.73  \n",
       "Core %           76.91  \n",
       "Deep %            5.55  "
      ]
     },
     "execution_count": 47,
     "metadata": {},
     "output_type": "execute_result"
    }
   ],
   "source": [
    "plotting_mean_df.rename(index={'rem_pct': 'REM %', 'core_pct': 'Core %', 'deep_pct': 'Deep %'}, \n",
    "                        inplace=True)\n",
    "plotting_mean_df"
   ]
  },
  {
   "attachments": {},
   "cell_type": "markdown",
   "metadata": {},
   "source": [
    "Now let's use Matplotlib to create a bar chart that visualizes our sleep percentages with our potential ingerdients for our sleep hygeine recipe. "
   ]
  },
  {
   "cell_type": "code",
   "execution_count": 48,
   "metadata": {},
   "outputs": [
    {
     "data": {
      "image/png": "[encoded data removed]",
      "text/plain": [
       "<Figure size 640x480 with 1 Axes>"
      ]
     },
     "metadata": {},
     "output_type": "display_data"
    }
   ],
   "source": [
    "plotting_mean_df.plot(y=['Neuriva', 'chamomile', 'meditation'], kind='barh', ylabel='Sleep Metrics',\n",
    "                      title='Sleep metric mean percentages by supplement/behavior')\n",
    "plt.show()"
   ]
  },
  {
   "attachments": {},
   "cell_type": "markdown",
   "metadata": {},
   "source": [
    "### One Last Analysis..."
   ]
  },
  {
   "attachments": {},
   "cell_type": "markdown",
   "metadata": {},
   "source": [
    "Neuriva and chamomile tea can be consumed together. That very well may be our magic supplement formula, and it's worth trying that and gathering more sleep data over the coming months to see how that compares to our existing numbers. But just for fun, let's see what happens when we combine the REM and deep sleep numbers into one variable--does that give either Neuriva or chamomile the clear supplement-winning edge? So that our plotting here is compatible with the plotting above, we will also look at meditation (our clear behavior winner) with the combined REM/deep percentages. "
   ]
  },
  {
   "attachments": {},
   "cell_type": "markdown",
   "metadata": {},
   "source": [
    "Let's begin by making a copy of our main sleep DataFrame so we can work with our isolated values without making any changes to the original DF."
   ]
  },
  {
   "cell_type": "code",
   "execution_count": 49,
   "metadata": {},
   "outputs": [
    {
     "data": {
      "text/html": [
       "<div>\n",
       "<style scoped>\n",
       "    .dataframe tbody tr th:only-of-type {\n",
       "        vertical-align: middle;\n",
       "    }\n",
       "\n",
       "    .dataframe tbody tr th {\n",
       "        vertical-align: top;\n",
       "    }\n",
       "\n",
       "    .dataframe thead th {\n",
       "        text-align: right;\n",
       "    }\n",
       "</style>\n",
       "<table border=\"1\" class=\"dataframe\">\n",
       "  <thead>\n",
       "    <tr style=\"text-align: right;\">\n",
       "      <th></th>\n",
       "      <th>sleep_date</th>\n",
       "      <th>day_of_the_week</th>\n",
       "      <th>hours_sleep</th>\n",
       "      <th>awake_pct</th>\n",
       "      <th>rem_pct</th>\n",
       "      <th>core_pct</th>\n",
       "      <th>deep_pct</th>\n",
       "      <th>hr_bpm_min</th>\n",
       "      <th>hr_bpm_max</th>\n",
       "      <th>resp_rate_min</th>\n",
       "      <th>resp_rate_max</th>\n",
       "      <th>melatonin</th>\n",
       "      <th>magnesium</th>\n",
       "      <th>neuriva</th>\n",
       "      <th>chamomile</th>\n",
       "      <th>bath</th>\n",
       "      <th>shower</th>\n",
       "      <th>meditation</th>\n",
       "    </tr>\n",
       "  </thead>\n",
       "  <tbody>\n",
       "    <tr>\n",
       "      <th>0</th>\n",
       "      <td>2023-02-07</td>\n",
       "      <td>Tuesday</td>\n",
       "      <td>7.30</td>\n",
       "      <td>3.0</td>\n",
       "      <td>12.0</td>\n",
       "      <td>80.0</td>\n",
       "      <td>5.0</td>\n",
       "      <td>61.0</td>\n",
       "      <td>69.0</td>\n",
       "      <td>8.0</td>\n",
       "      <td>12.5</td>\n",
       "      <td>False</td>\n",
       "      <td>True</td>\n",
       "      <td>False</td>\n",
       "      <td>False</td>\n",
       "      <td>True</td>\n",
       "      <td>False</td>\n",
       "      <td>True</td>\n",
       "    </tr>\n",
       "    <tr>\n",
       "      <th>1</th>\n",
       "      <td>2023-02-08</td>\n",
       "      <td>Wednesday</td>\n",
       "      <td>6.83</td>\n",
       "      <td>5.0</td>\n",
       "      <td>22.0</td>\n",
       "      <td>67.0</td>\n",
       "      <td>6.0</td>\n",
       "      <td>62.0</td>\n",
       "      <td>78.0</td>\n",
       "      <td>8.0</td>\n",
       "      <td>12.5</td>\n",
       "      <td>True</td>\n",
       "      <td>True</td>\n",
       "      <td>False</td>\n",
       "      <td>False</td>\n",
       "      <td>False</td>\n",
       "      <td>False</td>\n",
       "      <td>True</td>\n",
       "    </tr>\n",
       "    <tr>\n",
       "      <th>2</th>\n",
       "      <td>2023-02-09</td>\n",
       "      <td>Thursday</td>\n",
       "      <td>6.68</td>\n",
       "      <td>4.0</td>\n",
       "      <td>11.0</td>\n",
       "      <td>79.0</td>\n",
       "      <td>6.0</td>\n",
       "      <td>61.0</td>\n",
       "      <td>73.0</td>\n",
       "      <td>8.5</td>\n",
       "      <td>12.5</td>\n",
       "      <td>True</td>\n",
       "      <td>True</td>\n",
       "      <td>False</td>\n",
       "      <td>False</td>\n",
       "      <td>True</td>\n",
       "      <td>False</td>\n",
       "      <td>False</td>\n",
       "    </tr>\n",
       "    <tr>\n",
       "      <th>3</th>\n",
       "      <td>2023-02-10</td>\n",
       "      <td>Friday</td>\n",
       "      <td>7.50</td>\n",
       "      <td>4.0</td>\n",
       "      <td>14.0</td>\n",
       "      <td>78.0</td>\n",
       "      <td>4.0</td>\n",
       "      <td>59.0</td>\n",
       "      <td>70.0</td>\n",
       "      <td>9.0</td>\n",
       "      <td>14.0</td>\n",
       "      <td>False</td>\n",
       "      <td>True</td>\n",
       "      <td>False</td>\n",
       "      <td>False</td>\n",
       "      <td>False</td>\n",
       "      <td>False</td>\n",
       "      <td>True</td>\n",
       "    </tr>\n",
       "    <tr>\n",
       "      <th>4</th>\n",
       "      <td>2023-02-11</td>\n",
       "      <td>Saturday</td>\n",
       "      <td>6.55</td>\n",
       "      <td>3.0</td>\n",
       "      <td>21.0</td>\n",
       "      <td>71.0</td>\n",
       "      <td>5.0</td>\n",
       "      <td>58.0</td>\n",
       "      <td>76.0</td>\n",
       "      <td>8.0</td>\n",
       "      <td>15.0</td>\n",
       "      <td>False</td>\n",
       "      <td>False</td>\n",
       "      <td>False</td>\n",
       "      <td>False</td>\n",
       "      <td>False</td>\n",
       "      <td>False</td>\n",
       "      <td>False</td>\n",
       "    </tr>\n",
       "  </tbody>\n",
       "</table>\n",
       "</div>"
      ],
      "text/plain": [
       "  sleep_date day_of_the_week  hours_sleep  awake_pct  rem_pct  core_pct  \\\n",
       "0 2023-02-07         Tuesday         7.30        3.0     12.0      80.0   \n",
       "1 2023-02-08       Wednesday         6.83        5.0     22.0      67.0   \n",
       "2 2023-02-09        Thursday         6.68        4.0     11.0      79.0   \n",
       "3 2023-02-10          Friday         7.50        4.0     14.0      78.0   \n",
       "4 2023-02-11        Saturday         6.55        3.0     21.0      71.0   \n",
       "\n",
       "   deep_pct  hr_bpm_min  hr_bpm_max  resp_rate_min  resp_rate_max  melatonin  \\\n",
       "0       5.0        61.0        69.0            8.0           12.5      False   \n",
       "1       6.0        62.0        78.0            8.0           12.5       True   \n",
       "2       6.0        61.0        73.0            8.5           12.5       True   \n",
       "3       4.0        59.0        70.0            9.0           14.0      False   \n",
       "4       5.0        58.0        76.0            8.0           15.0      False   \n",
       "\n",
       "   magnesium  neuriva  chamomile   bath  shower  meditation  \n",
       "0       True    False      False   True   False        True  \n",
       "1       True    False      False  False   False        True  \n",
       "2       True    False      False   True   False       False  \n",
       "3       True    False      False  False   False        True  \n",
       "4      False    False      False  False   False       False  "
      ]
     },
     "execution_count": 49,
     "metadata": {},
     "output_type": "execute_result"
    }
   ],
   "source": [
    "sleep2_df = sleep_df.copy()\n",
    "sleep2_df.head()"
   ]
  },
  {
   "attachments": {},
   "cell_type": "markdown",
   "metadata": {},
   "source": [
    "Now we pull out the columns we need and make a new column with our REM and deep sleep sums."
   ]
  },
  {
   "cell_type": "code",
   "execution_count": 50,
   "metadata": {},
   "outputs": [
    {
     "data": {
      "text/html": [
       "<div>\n",
       "<style scoped>\n",
       "    .dataframe tbody tr th:only-of-type {\n",
       "        vertical-align: middle;\n",
       "    }\n",
       "\n",
       "    .dataframe tbody tr th {\n",
       "        vertical-align: top;\n",
       "    }\n",
       "\n",
       "    .dataframe thead th {\n",
       "        text-align: right;\n",
       "    }\n",
       "</style>\n",
       "<table border=\"1\" class=\"dataframe\">\n",
       "  <thead>\n",
       "    <tr style=\"text-align: right;\">\n",
       "      <th></th>\n",
       "      <th>rem_pct</th>\n",
       "      <th>deep_pct</th>\n",
       "      <th>neuriva</th>\n",
       "      <th>chamomile</th>\n",
       "      <th>meditation</th>\n",
       "      <th>rem_deep_sum</th>\n",
       "    </tr>\n",
       "  </thead>\n",
       "  <tbody>\n",
       "    <tr>\n",
       "      <th>0</th>\n",
       "      <td>12.0</td>\n",
       "      <td>5.0</td>\n",
       "      <td>False</td>\n",
       "      <td>False</td>\n",
       "      <td>True</td>\n",
       "      <td>17.0</td>\n",
       "    </tr>\n",
       "    <tr>\n",
       "      <th>1</th>\n",
       "      <td>22.0</td>\n",
       "      <td>6.0</td>\n",
       "      <td>False</td>\n",
       "      <td>False</td>\n",
       "      <td>True</td>\n",
       "      <td>28.0</td>\n",
       "    </tr>\n",
       "    <tr>\n",
       "      <th>2</th>\n",
       "      <td>11.0</td>\n",
       "      <td>6.0</td>\n",
       "      <td>False</td>\n",
       "      <td>False</td>\n",
       "      <td>False</td>\n",
       "      <td>17.0</td>\n",
       "    </tr>\n",
       "    <tr>\n",
       "      <th>3</th>\n",
       "      <td>14.0</td>\n",
       "      <td>4.0</td>\n",
       "      <td>False</td>\n",
       "      <td>False</td>\n",
       "      <td>True</td>\n",
       "      <td>18.0</td>\n",
       "    </tr>\n",
       "    <tr>\n",
       "      <th>4</th>\n",
       "      <td>21.0</td>\n",
       "      <td>5.0</td>\n",
       "      <td>False</td>\n",
       "      <td>False</td>\n",
       "      <td>False</td>\n",
       "      <td>26.0</td>\n",
       "    </tr>\n",
       "  </tbody>\n",
       "</table>\n",
       "</div>"
      ],
      "text/plain": [
       "   rem_pct  deep_pct  neuriva  chamomile  meditation  rem_deep_sum\n",
       "0     12.0       5.0    False      False        True          17.0\n",
       "1     22.0       6.0    False      False        True          28.0\n",
       "2     11.0       6.0    False      False       False          17.0\n",
       "3     14.0       4.0    False      False        True          18.0\n",
       "4     21.0       5.0    False      False       False          26.0"
      ]
     },
     "execution_count": 50,
     "metadata": {},
     "output_type": "execute_result"
    }
   ],
   "source": [
    "sleep2_df = sleep2_df[['rem_pct', 'deep_pct', 'neuriva', 'chamomile', 'meditation']]\n",
    "sleep2_df['rem_deep_sum'] = sleep2_df['rem_pct'] + sleep2_df['deep_pct']\n",
    "sleep2_df.head()\n"
   ]
  },
  {
   "attachments": {},
   "cell_type": "markdown",
   "metadata": {},
   "source": [
    "Next we need to get the means for our new column alongside the means for just REM and deep sleep."
   ]
  },
  {
   "cell_type": "code",
   "execution_count": 51,
   "metadata": {},
   "outputs": [
    {
     "data": {
      "text/plain": [
       "rem_pct         15.379310\n",
       "deep_pct         5.551724\n",
       "rem_deep_sum    20.931034\n",
       "dtype: float64"
      ]
     },
     "execution_count": 51,
     "metadata": {},
     "output_type": "execute_result"
    }
   ],
   "source": [
    "sleep2_means = sleep2_df[['rem_pct', 'deep_pct','rem_deep_sum']].mean()\n",
    "sleep2_means"
   ]
  },
  {
   "attachments": {},
   "cell_type": "markdown",
   "metadata": {},
   "source": [
    "The next step mimics what we did earlier in the analysis where we isolate the nights each of the supplements/behaviors we're studying were employed, calculate those means, and pull all of those series into a new DataFrame."
   ]
  },
  {
   "cell_type": "code",
   "execution_count": 52,
   "metadata": {},
   "outputs": [
    {
     "data": {
      "text/html": [
       "<div>\n",
       "<style scoped>\n",
       "    .dataframe tbody tr th:only-of-type {\n",
       "        vertical-align: middle;\n",
       "    }\n",
       "\n",
       "    .dataframe tbody tr th {\n",
       "        vertical-align: top;\n",
       "    }\n",
       "\n",
       "    .dataframe thead th {\n",
       "        text-align: right;\n",
       "    }\n",
       "</style>\n",
       "<table border=\"1\" class=\"dataframe\">\n",
       "  <thead>\n",
       "    <tr style=\"text-align: right;\">\n",
       "      <th></th>\n",
       "      <th>rem_pct</th>\n",
       "      <th>deep_pct</th>\n",
       "      <th>neuriva</th>\n",
       "      <th>chamomile</th>\n",
       "      <th>meditation</th>\n",
       "      <th>rem_deep_sum</th>\n",
       "    </tr>\n",
       "  </thead>\n",
       "  <tbody>\n",
       "    <tr>\n",
       "      <th>12</th>\n",
       "      <td>24.0</td>\n",
       "      <td>7.0</td>\n",
       "      <td>True</td>\n",
       "      <td>True</td>\n",
       "      <td>True</td>\n",
       "      <td>31.0</td>\n",
       "    </tr>\n",
       "    <tr>\n",
       "      <th>13</th>\n",
       "      <td>12.0</td>\n",
       "      <td>10.0</td>\n",
       "      <td>True</td>\n",
       "      <td>False</td>\n",
       "      <td>True</td>\n",
       "      <td>22.0</td>\n",
       "    </tr>\n",
       "    <tr>\n",
       "      <th>14</th>\n",
       "      <td>16.0</td>\n",
       "      <td>9.0</td>\n",
       "      <td>True</td>\n",
       "      <td>True</td>\n",
       "      <td>True</td>\n",
       "      <td>25.0</td>\n",
       "    </tr>\n",
       "    <tr>\n",
       "      <th>15</th>\n",
       "      <td>17.0</td>\n",
       "      <td>7.0</td>\n",
       "      <td>True</td>\n",
       "      <td>False</td>\n",
       "      <td>True</td>\n",
       "      <td>24.0</td>\n",
       "    </tr>\n",
       "    <tr>\n",
       "      <th>17</th>\n",
       "      <td>20.0</td>\n",
       "      <td>2.0</td>\n",
       "      <td>True</td>\n",
       "      <td>False</td>\n",
       "      <td>True</td>\n",
       "      <td>22.0</td>\n",
       "    </tr>\n",
       "  </tbody>\n",
       "</table>\n",
       "</div>"
      ],
      "text/plain": [
       "    rem_pct  deep_pct  neuriva  chamomile  meditation  rem_deep_sum\n",
       "12     24.0       7.0     True       True        True          31.0\n",
       "13     12.0      10.0     True      False        True          22.0\n",
       "14     16.0       9.0     True       True        True          25.0\n",
       "15     17.0       7.0     True      False        True          24.0\n",
       "17     20.0       2.0     True      False        True          22.0"
      ]
     },
     "execution_count": 52,
     "metadata": {},
     "output_type": "execute_result"
    }
   ],
   "source": [
    "neuriva2_df = sleep2_df[sleep2_df['neuriva'] == True]\n",
    "neuriva2_df.head()"
   ]
  },
  {
   "cell_type": "code",
   "execution_count": 53,
   "metadata": {},
   "outputs": [
    {
     "data": {
      "text/plain": [
       "rem_pct         16.545455\n",
       "deep_pct         6.090909\n",
       "rem_deep_sum    22.636364\n",
       "dtype: float64"
      ]
     },
     "execution_count": 53,
     "metadata": {},
     "output_type": "execute_result"
    }
   ],
   "source": [
    "neuriva2_means = neuriva2_df[['rem_pct', 'deep_pct','rem_deep_sum']].mean()\n",
    "neuriva2_means"
   ]
  },
  {
   "cell_type": "code",
   "execution_count": 54,
   "metadata": {},
   "outputs": [
    {
     "data": {
      "text/html": [
       "<div>\n",
       "<style scoped>\n",
       "    .dataframe tbody tr th:only-of-type {\n",
       "        vertical-align: middle;\n",
       "    }\n",
       "\n",
       "    .dataframe tbody tr th {\n",
       "        vertical-align: top;\n",
       "    }\n",
       "\n",
       "    .dataframe thead th {\n",
       "        text-align: right;\n",
       "    }\n",
       "</style>\n",
       "<table border=\"1\" class=\"dataframe\">\n",
       "  <thead>\n",
       "    <tr style=\"text-align: right;\">\n",
       "      <th></th>\n",
       "      <th>rem_pct</th>\n",
       "      <th>deep_pct</th>\n",
       "      <th>neuriva</th>\n",
       "      <th>chamomile</th>\n",
       "      <th>meditation</th>\n",
       "      <th>rem_deep_sum</th>\n",
       "    </tr>\n",
       "  </thead>\n",
       "  <tbody>\n",
       "    <tr>\n",
       "      <th>5</th>\n",
       "      <td>20.0</td>\n",
       "      <td>4.0</td>\n",
       "      <td>False</td>\n",
       "      <td>True</td>\n",
       "      <td>True</td>\n",
       "      <td>24.0</td>\n",
       "    </tr>\n",
       "    <tr>\n",
       "      <th>6</th>\n",
       "      <td>9.0</td>\n",
       "      <td>4.0</td>\n",
       "      <td>False</td>\n",
       "      <td>True</td>\n",
       "      <td>True</td>\n",
       "      <td>13.0</td>\n",
       "    </tr>\n",
       "    <tr>\n",
       "      <th>12</th>\n",
       "      <td>24.0</td>\n",
       "      <td>7.0</td>\n",
       "      <td>True</td>\n",
       "      <td>True</td>\n",
       "      <td>True</td>\n",
       "      <td>31.0</td>\n",
       "    </tr>\n",
       "    <tr>\n",
       "      <th>14</th>\n",
       "      <td>16.0</td>\n",
       "      <td>9.0</td>\n",
       "      <td>True</td>\n",
       "      <td>True</td>\n",
       "      <td>True</td>\n",
       "      <td>25.0</td>\n",
       "    </tr>\n",
       "    <tr>\n",
       "      <th>30</th>\n",
       "      <td>21.0</td>\n",
       "      <td>6.0</td>\n",
       "      <td>True</td>\n",
       "      <td>True</td>\n",
       "      <td>True</td>\n",
       "      <td>27.0</td>\n",
       "    </tr>\n",
       "  </tbody>\n",
       "</table>\n",
       "</div>"
      ],
      "text/plain": [
       "    rem_pct  deep_pct  neuriva  chamomile  meditation  rem_deep_sum\n",
       "5      20.0       4.0    False       True        True          24.0\n",
       "6       9.0       4.0    False       True        True          13.0\n",
       "12     24.0       7.0     True       True        True          31.0\n",
       "14     16.0       9.0     True       True        True          25.0\n",
       "30     21.0       6.0     True       True        True          27.0"
      ]
     },
     "execution_count": 54,
     "metadata": {},
     "output_type": "execute_result"
    }
   ],
   "source": [
    "cham2_df = sleep2_df[sleep2_df['chamomile'] == True]\n",
    "cham2_df.head()"
   ]
  },
  {
   "cell_type": "code",
   "execution_count": 55,
   "metadata": {},
   "outputs": [
    {
     "data": {
      "text/plain": [
       "rem_pct         18.0\n",
       "deep_pct         6.0\n",
       "rem_deep_sum    24.0\n",
       "dtype: float64"
      ]
     },
     "execution_count": 55,
     "metadata": {},
     "output_type": "execute_result"
    }
   ],
   "source": [
    "cham2_means = cham2_df[['rem_pct', 'deep_pct','rem_deep_sum']].mean()\n",
    "cham2_means"
   ]
  },
  {
   "cell_type": "code",
   "execution_count": 56,
   "metadata": {},
   "outputs": [
    {
     "data": {
      "text/html": [
       "<div>\n",
       "<style scoped>\n",
       "    .dataframe tbody tr th:only-of-type {\n",
       "        vertical-align: middle;\n",
       "    }\n",
       "\n",
       "    .dataframe tbody tr th {\n",
       "        vertical-align: top;\n",
       "    }\n",
       "\n",
       "    .dataframe thead th {\n",
       "        text-align: right;\n",
       "    }\n",
       "</style>\n",
       "<table border=\"1\" class=\"dataframe\">\n",
       "  <thead>\n",
       "    <tr style=\"text-align: right;\">\n",
       "      <th></th>\n",
       "      <th>rem_pct</th>\n",
       "      <th>deep_pct</th>\n",
       "      <th>neuriva</th>\n",
       "      <th>chamomile</th>\n",
       "      <th>meditation</th>\n",
       "      <th>rem_deep_sum</th>\n",
       "    </tr>\n",
       "  </thead>\n",
       "  <tbody>\n",
       "    <tr>\n",
       "      <th>0</th>\n",
       "      <td>12.0</td>\n",
       "      <td>5.0</td>\n",
       "      <td>False</td>\n",
       "      <td>False</td>\n",
       "      <td>True</td>\n",
       "      <td>17.0</td>\n",
       "    </tr>\n",
       "    <tr>\n",
       "      <th>1</th>\n",
       "      <td>22.0</td>\n",
       "      <td>6.0</td>\n",
       "      <td>False</td>\n",
       "      <td>False</td>\n",
       "      <td>True</td>\n",
       "      <td>28.0</td>\n",
       "    </tr>\n",
       "    <tr>\n",
       "      <th>3</th>\n",
       "      <td>14.0</td>\n",
       "      <td>4.0</td>\n",
       "      <td>False</td>\n",
       "      <td>False</td>\n",
       "      <td>True</td>\n",
       "      <td>18.0</td>\n",
       "    </tr>\n",
       "    <tr>\n",
       "      <th>5</th>\n",
       "      <td>20.0</td>\n",
       "      <td>4.0</td>\n",
       "      <td>False</td>\n",
       "      <td>True</td>\n",
       "      <td>True</td>\n",
       "      <td>24.0</td>\n",
       "    </tr>\n",
       "    <tr>\n",
       "      <th>6</th>\n",
       "      <td>9.0</td>\n",
       "      <td>4.0</td>\n",
       "      <td>False</td>\n",
       "      <td>True</td>\n",
       "      <td>True</td>\n",
       "      <td>13.0</td>\n",
       "    </tr>\n",
       "  </tbody>\n",
       "</table>\n",
       "</div>"
      ],
      "text/plain": [
       "   rem_pct  deep_pct  neuriva  chamomile  meditation  rem_deep_sum\n",
       "0     12.0       5.0    False      False        True          17.0\n",
       "1     22.0       6.0    False      False        True          28.0\n",
       "3     14.0       4.0    False      False        True          18.0\n",
       "5     20.0       4.0    False       True        True          24.0\n",
       "6      9.0       4.0    False       True        True          13.0"
      ]
     },
     "execution_count": 56,
     "metadata": {},
     "output_type": "execute_result"
    }
   ],
   "source": [
    "meditation2_df = sleep2_df[sleep2_df['meditation'] == True]\n",
    "meditation2_df.head()"
   ]
  },
  {
   "cell_type": "code",
   "execution_count": 57,
   "metadata": {},
   "outputs": [
    {
     "data": {
      "text/plain": [
       "rem_pct         15.478261\n",
       "deep_pct         5.608696\n",
       "rem_deep_sum    21.086957\n",
       "dtype: float64"
      ]
     },
     "execution_count": 57,
     "metadata": {},
     "output_type": "execute_result"
    }
   ],
   "source": [
    "meditation2_means = meditation2_df[['rem_pct', 'deep_pct','rem_deep_sum']].mean()\n",
    "meditation2_means"
   ]
  },
  {
   "cell_type": "code",
   "execution_count": 58,
   "metadata": {},
   "outputs": [
    {
     "data": {
      "text/html": [
       "<div>\n",
       "<style scoped>\n",
       "    .dataframe tbody tr th:only-of-type {\n",
       "        vertical-align: middle;\n",
       "    }\n",
       "\n",
       "    .dataframe tbody tr th {\n",
       "        vertical-align: top;\n",
       "    }\n",
       "\n",
       "    .dataframe thead th {\n",
       "        text-align: right;\n",
       "    }\n",
       "</style>\n",
       "<table border=\"1\" class=\"dataframe\">\n",
       "  <thead>\n",
       "    <tr style=\"text-align: right;\">\n",
       "      <th></th>\n",
       "      <th>0</th>\n",
       "      <th>1</th>\n",
       "      <th>2</th>\n",
       "      <th>3</th>\n",
       "    </tr>\n",
       "  </thead>\n",
       "  <tbody>\n",
       "    <tr>\n",
       "      <th>rem_pct</th>\n",
       "      <td>15.38</td>\n",
       "      <td>16.55</td>\n",
       "      <td>18.0</td>\n",
       "      <td>15.48</td>\n",
       "    </tr>\n",
       "    <tr>\n",
       "      <th>deep_pct</th>\n",
       "      <td>5.55</td>\n",
       "      <td>6.09</td>\n",
       "      <td>6.0</td>\n",
       "      <td>5.61</td>\n",
       "    </tr>\n",
       "    <tr>\n",
       "      <th>rem_deep_sum</th>\n",
       "      <td>20.93</td>\n",
       "      <td>22.64</td>\n",
       "      <td>24.0</td>\n",
       "      <td>21.09</td>\n",
       "    </tr>\n",
       "  </tbody>\n",
       "</table>\n",
       "</div>"
      ],
      "text/plain": [
       "                  0      1     2      3\n",
       "rem_pct       15.38  16.55  18.0  15.48\n",
       "deep_pct       5.55   6.09   6.0   5.61\n",
       "rem_deep_sum  20.93  22.64  24.0  21.09"
      ]
     },
     "execution_count": 58,
     "metadata": {},
     "output_type": "execute_result"
    }
   ],
   "source": [
    "mean2_df = pd.concat([sleep2_means, neuriva2_means, cham2_means, meditation2_means],\n",
    "                    axis=1)\n",
    "mean2_df = mean2_df.round(decimals = 2)\n",
    "mean2_df"
   ]
  },
  {
   "attachments": {},
   "cell_type": "markdown",
   "metadata": {},
   "source": [
    "We will rename our columns and our indices just as we did before to make our newest plot more readable and layman-friendly."
   ]
  },
  {
   "cell_type": "code",
   "execution_count": 59,
   "metadata": {},
   "outputs": [
    {
     "data": {
      "text/html": [
       "<div>\n",
       "<style scoped>\n",
       "    .dataframe tbody tr th:only-of-type {\n",
       "        vertical-align: middle;\n",
       "    }\n",
       "\n",
       "    .dataframe tbody tr th {\n",
       "        vertical-align: top;\n",
       "    }\n",
       "\n",
       "    .dataframe thead th {\n",
       "        text-align: right;\n",
       "    }\n",
       "</style>\n",
       "<table border=\"1\" class=\"dataframe\">\n",
       "  <thead>\n",
       "    <tr style=\"text-align: right;\">\n",
       "      <th></th>\n",
       "      <th>all_sleep</th>\n",
       "      <th>Neuriva</th>\n",
       "      <th>chamomile</th>\n",
       "      <th>meditation</th>\n",
       "    </tr>\n",
       "  </thead>\n",
       "  <tbody>\n",
       "    <tr>\n",
       "      <th>REM %</th>\n",
       "      <td>15.38</td>\n",
       "      <td>16.55</td>\n",
       "      <td>18.0</td>\n",
       "      <td>15.48</td>\n",
       "    </tr>\n",
       "    <tr>\n",
       "      <th>Deep %</th>\n",
       "      <td>5.55</td>\n",
       "      <td>6.09</td>\n",
       "      <td>6.0</td>\n",
       "      <td>5.61</td>\n",
       "    </tr>\n",
       "    <tr>\n",
       "      <th>REM + Deep %</th>\n",
       "      <td>20.93</td>\n",
       "      <td>22.64</td>\n",
       "      <td>24.0</td>\n",
       "      <td>21.09</td>\n",
       "    </tr>\n",
       "  </tbody>\n",
       "</table>\n",
       "</div>"
      ],
      "text/plain": [
       "              all_sleep  Neuriva  chamomile  meditation\n",
       "REM %             15.38    16.55       18.0       15.48\n",
       "Deep %             5.55     6.09        6.0        5.61\n",
       "REM + Deep %      20.93    22.64       24.0       21.09"
      ]
     },
     "execution_count": 59,
     "metadata": {},
     "output_type": "execute_result"
    }
   ],
   "source": [
    "mean2_df.columns = ['all_sleep', 'Neuriva', 'chamomile', 'meditation']\n",
    "mean2_df.rename(index={'rem_pct': 'REM %', 'deep_pct': 'Deep %', 'rem_deep_sum': 'REM + Deep %'}, \n",
    "                inplace=True)\n",
    "mean2_df"
   ]
  },
  {
   "cell_type": "code",
   "execution_count": 60,
   "metadata": {},
   "outputs": [
    {
     "data": {
      "image/png": "[encoded data removed]",
      "text/plain": [
       "<Figure size 640x480 with 1 Axes>"
      ]
     },
     "metadata": {},
     "output_type": "display_data"
    }
   ],
   "source": [
    "mean2_df.plot(y=['Neuriva', 'chamomile', 'meditation'], kind='barh', ylabel='Sleep Metrics',\n",
    "                title='Sleep metric mean percentages by supplement/behavior')\n",
    "plt.show()"
   ]
  },
  {
   "attachments": {},
   "cell_type": "markdown",
   "metadata": {},
   "source": [
    "When REM sleep and deep sleep percentages are combined, chamomile is the clear supplement winner. "
   ]
  },
  {
   "attachments": {},
   "cell_type": "markdown",
   "metadata": {},
   "source": [
    "### Conclusion"
   ]
  },
  {
   "attachments": {},
   "cell_type": "markdown",
   "metadata": {},
   "source": [
    "Since the goal of this very limited sleep study was to see what I can do to increase my REM and deep sleep, the analysis that may be the most helpful is this final one with the combined REM and deep values. "
   ]
  },
  {
   "attachments": {},
   "cell_type": "markdown",
   "metadata": {},
   "source": [
    "Therefore, the recipe for a perfect night's sleep, at least for this poor sleeper, is a cup of chamomile tea at bedtime followed by guided meditation. "
   ]
  },
  {
   "attachments": {},
   "cell_type": "markdown",
   "metadata": {},
   "source": [
    "There are clear limits to this study: caffeine and exercise weren't factored in at all, and those are known to have a huge impact on sleep quality. The number of nights spent recording data, and the number of nights each supplement and behavior were used, were too small to have a statistically solid sample. And we didn't look at all at the impact of weeknights versus weekend sleep nights, nor at the impact of the switches from standard time to daylight saving and vice-versa. So there is room here for future study.\n",
    "\n",
    "But now, if you will excuse me, I will have a cup of chamomile tea, perhaps with a chaser of Neuriva, and do a little meditation.\n",
    "\n",
    "Good night, all."
   ]
  },
  {
   "attachments": {},
   "cell_type": "markdown",
   "metadata": {},
   "source": [
    "![](https://media.giphy.com/media/FbN4MpJnIwLQc/giphy.gif)"
   ]
  }
 ],
 "metadata": {
  "kernelspec": {
   "display_name": "base",
   "language": "python",
   "name": "python3"
  },
  "language_info": {
   "codemirror_mode": {
    "name": "ipython",
    "version": 3
   },
   "file_extension": ".py",
   "mimetype": "text/x-python",
   "name": "python",
   "nbconvert_exporter": "python",
   "pygments_lexer": "ipython3",
   "version": "3.9.16"
  },
  "orig_nbformat": 4
 },
 "nbformat": 4,
 "nbformat_minor": 2
}
